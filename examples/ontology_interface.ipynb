{
 "cells": [
  {
   "cell_type": "markdown",
   "metadata": {
    "slideshow": {
     "slide_type": "slide"
    }
   },
   "source": [
    "# Ontology Query Interface Usage Examples"
   ]
  },
  {
   "cell_type": "markdown",
   "metadata": {
    "slideshow": {
     "slide_type": "fragment"
    }
   },
   "source": [
    "The query interface is part of the `mas_knowledge_utils` package and we can import it as follows:"
   ]
  },
  {
   "cell_type": "code",
   "execution_count": 1,
   "metadata": {
    "slideshow": {
     "slide_type": "fragment"
    }
   },
   "outputs": [],
   "source": [
    "from mas_knowledge_utils.ontology_query_interface import OntologyQueryInterface"
   ]
  },
  {
   "cell_type": "markdown",
   "metadata": {
    "slideshow": {
     "slide_type": "slide"
    }
   },
   "source": [
    "### Initialising an Instance of the Ontology Interface"
   ]
  },
  {
   "cell_type": "markdown",
   "metadata": {
    "slideshow": {
     "slide_type": "fragment"
    }
   },
   "source": [
    "Instances of the query interface expect two arguments to be passed:\n",
    "* `ontology_url`: URL at which the ontology is exposed (if the ontology is read from a local file, the path should be prefixed by `file://`)\n",
    "* `ontology_class_prefix`: we assume that classes are defined in a namespace, so the TBox will contain declarations of the type `prefix:Class` or `prefix:ObjectProperty`\n",
    "\n",
    "For all examples here, we will use an ontology that was created during RoboCup German Open 2019. We host this ontology on GitHub, such that the `apartment` namespace is used for defining the ontology entities."
   ]
  },
  {
   "cell_type": "code",
   "execution_count": 2,
   "metadata": {
    "slideshow": {
     "slide_type": "fragment"
    }
   },
   "outputs": [],
   "source": [
    "ontology_url = 'https://raw.githubusercontent.com/b-it-bots/mas_knowledge_base/master/common/ontology/apartment_go_2019.owl'\n",
    "ontology_class_prefix = 'apartment'\n",
    "ontology_interface = OntologyQueryInterface(ontology_url, ontology_class_prefix)"
   ]
  },
  {
   "cell_type": "markdown",
   "metadata": {
    "slideshow": {
     "slide_type": "slide"
    }
   },
   "source": [
    "### Reading Out Class Data"
   ]
  },
  {
   "cell_type": "markdown",
   "metadata": {
    "slideshow": {
     "slide_type": "fragment"
    }
   },
   "source": [
    "The interface allows retrieving various class-related aspects from the TBox. For instance, we can obtain all classes in the ontology using the `get_classes` function:"
   ]
  },
  {
   "cell_type": "code",
   "execution_count": 3,
   "metadata": {
    "scrolled": true,
    "slideshow": {
     "slide_type": "fragment"
    }
   },
   "outputs": [
    {
     "name": "stdout",
     "output_type": "stream",
     "text": [
      "['WhiteDrawer', 'Cracker', 'Female', 'Fruit', 'Spoon', 'NutFruitMix', 'OrangeJuice', 'HighTable', 'GetIt', 'Object', 'Cupboard', 'Location', 'Food', 'Noodles', 'TVTable', 'CoffeeTable', 'Couch', 'PeanutBits', 'Bar', 'Hallway', 'TrashBin', 'Lemon', 'Sofa', 'Salt', 'TrashCan', 'Wall', 'Bowl', 'CerealBarChocolate', 'Tomatoes', 'AppleJuice', 'Milk', 'SideTable', 'BarTable', 'Bouillon', 'Room', 'Dishwasher', 'FruitBarApple', 'CerealBarChocolateBanana', 'Bookcase', 'Cabinet', 'KitchenCabinet', 'Sauerkraut', 'Bedroom', 'Sideboard', 'Plate', 'Toothpaste', 'Person', 'Coathanger', 'KitchenTable', 'Kitchen', 'Cereal', 'FruitBarForestFruit', 'Knife', 'Other', 'Trashbag', 'Cloth', 'BigCoke', 'KitchenStuff', 'Soap', 'Corn', 'LivingRoom', 'Male', 'BigLemonJuice', 'Fork', 'Snacks', 'DishwasherTab', 'Desk', 'Chair', 'TV', 'RedSpritzer', 'Drinks', 'Bed', 'BigWater', 'IsoDrink', 'Basket', 'Container', 'SparklingWater', 'ShowerGel', 'Plane', 'Pepper', 'Orange', 'Cup', 'Care', 'CleaningStuff', 'Furniture', 'SeasoningMix', 'Tray']\n"
     ]
    }
   ],
   "source": [
    "classes = ontology_interface.get_classes()\n",
    "print(classes)"
   ]
  },
  {
   "cell_type": "markdown",
   "metadata": {
    "slideshow": {
     "slide_type": "fragment"
    }
   },
   "source": [
    "This ontology is rather small, so the number of classes is rather manageable."
   ]
  },
  {
   "cell_type": "markdown",
   "metadata": {
    "slideshow": {
     "slide_type": "slide"
    }
   },
   "source": [
    "In addition to retrieving all classes, we can also retrieve a list of all parent classes of a given class:"
   ]
  },
  {
   "cell_type": "code",
   "execution_count": 4,
   "metadata": {
    "slideshow": {
     "slide_type": "fragment"
    }
   },
   "outputs": [
    {
     "data": {
      "text/plain": [
       "['Fork', 'KitchenStuff', 'Object']"
      ]
     },
     "execution_count": 4,
     "metadata": {},
     "output_type": "execute_result"
    }
   ],
   "source": [
    "ontology_interface.get_parent_classes_of('Fork')"
   ]
  },
  {
   "cell_type": "markdown",
   "metadata": {
    "slideshow": {
     "slide_type": "fragment"
    }
   },
   "source": [
    "It should be noted that a class is a parent of itself, so the query class is also included in the result.\n",
    "\n",
    "In some cases, we may also be interested in retrieving all subclasses of a given class:"
   ]
  },
  {
   "cell_type": "code",
   "execution_count": 5,
   "metadata": {
    "scrolled": true,
    "slideshow": {
     "slide_type": "fragment"
    }
   },
   "outputs": [
    {
     "data": {
      "text/plain": [
       "['KitchenStuff', 'Plate', 'Cup', 'Bowl', 'Spoon', 'Fork', 'Knife']"
      ]
     },
     "execution_count": 5,
     "metadata": {},
     "output_type": "execute_result"
    }
   ],
   "source": [
    "ontology_interface.get_subclasses_of('KitchenStuff')"
   ]
  },
  {
   "cell_type": "markdown",
   "metadata": {
    "slideshow": {
     "slide_type": "fragment"
    }
   },
   "source": [
    "As above, a class is a subclass of itself."
   ]
  },
  {
   "cell_type": "markdown",
   "metadata": {
    "slideshow": {
     "slide_type": "slide"
    }
   },
   "source": [
    "The above functions implicitly allow us to extract the hierarchy of classes in the ontology. The interface also allows us to get the hierarchy explicitly in the form of a dictionary in which each key is a class name and the corresponding value is a list of subclasses of the class. This is done through the `get_class_hierarchy` function."
   ]
  },
  {
   "cell_type": "code",
   "execution_count": 6,
   "metadata": {
    "slideshow": {
     "slide_type": "fragment"
    }
   },
   "outputs": [
    {
     "data": {
      "text/plain": [
       "{'AppleJuice': [],\n",
       " 'Bar': [],\n",
       " 'BarTable': [],\n",
       " 'Basket': [],\n",
       " 'Bed': [],\n",
       " 'Bedroom': [],\n",
       " 'BigCoke': [],\n",
       " 'BigLemonJuice': [],\n",
       " 'BigWater': [],\n",
       " 'Bookcase': [],\n",
       " 'Bouillon': [],\n",
       " 'Bowl': [],\n",
       " 'Cabinet': [],\n",
       " 'Care': ['Toothpaste', 'Soap', 'ShowerGel'],\n",
       " 'Cereal': [],\n",
       " 'CerealBarChocolate': [],\n",
       " 'CerealBarChocolateBanana': [],\n",
       " 'Chair': [],\n",
       " 'CleaningStuff': ['DishwasherTab', 'Cloth'],\n",
       " 'Cloth': [],\n",
       " 'Coathanger': [],\n",
       " 'CoffeeTable': [],\n",
       " 'Container': ['Tray', 'Basket'],\n",
       " 'Corn': [],\n",
       " 'Couch': [],\n",
       " 'Cracker': [],\n",
       " 'Cup': [],\n",
       " 'Cupboard': [],\n",
       " 'Desk': [],\n",
       " 'Dishwasher': [],\n",
       " 'DishwasherTab': [],\n",
       " 'Drinks': ['AppleJuice',\n",
       "  'SparklingWater',\n",
       "  'IsoDrink',\n",
       "  'BigWater',\n",
       "  'Milk',\n",
       "  'BigCoke',\n",
       "  'BigLemonJuice',\n",
       "  'OrangeJuice',\n",
       "  'RedSpritzer'],\n",
       " 'Female': [],\n",
       " 'Food': ['Cereal',\n",
       "  'Bouillon',\n",
       "  'Noodles',\n",
       "  'SeasoningMix',\n",
       "  'Tomatoes',\n",
       "  'Corn',\n",
       "  'Salt',\n",
       "  'Pepper',\n",
       "  'Sauerkraut'],\n",
       " 'Fork': [],\n",
       " 'Fruit': ['Lemon', 'Orange'],\n",
       " 'FruitBarApple': [],\n",
       " 'FruitBarForestFruit': [],\n",
       " 'Furniture': ['Dishwasher',\n",
       "  'Coathanger',\n",
       "  'TrashCan',\n",
       "  'SideTable',\n",
       "  'Bed',\n",
       "  'Bookcase',\n",
       "  'Sofa',\n",
       "  'WhiteDrawer',\n",
       "  'Desk',\n",
       "  'TV',\n",
       "  'Cabinet',\n",
       "  'KitchenTable',\n",
       "  'BarTable',\n",
       "  'HighTable',\n",
       "  'Sideboard',\n",
       "  'Cupboard',\n",
       "  'Couch',\n",
       "  'Chair',\n",
       "  'CoffeeTable',\n",
       "  'TrashBin',\n",
       "  'KitchenCabinet',\n",
       "  'TVTable'],\n",
       " 'GetIt': [],\n",
       " 'Hallway': [],\n",
       " 'HighTable': [],\n",
       " 'IsoDrink': [],\n",
       " 'Kitchen': [],\n",
       " 'KitchenCabinet': [],\n",
       " 'KitchenStuff': ['Plate', 'Cup', 'Bowl', 'Spoon', 'Fork', 'Knife'],\n",
       " 'KitchenTable': [],\n",
       " 'Knife': [],\n",
       " 'Lemon': [],\n",
       " 'LivingRoom': [],\n",
       " 'Location': ['Wall',\n",
       "  'Room',\n",
       "  'Hallway',\n",
       "  'Bar',\n",
       "  'Kitchen',\n",
       "  'LivingRoom',\n",
       "  'Bedroom'],\n",
       " 'Male': [],\n",
       " 'Milk': [],\n",
       " 'Noodles': [],\n",
       " 'NutFruitMix': [],\n",
       " 'Object': ['Care',\n",
       "  'Toothpaste',\n",
       "  'Soap',\n",
       "  'ShowerGel',\n",
       "  'KitchenStuff',\n",
       "  'Plate',\n",
       "  'Cup',\n",
       "  'Bowl',\n",
       "  'Spoon',\n",
       "  'Fork',\n",
       "  'Knife',\n",
       "  'Food',\n",
       "  'Cereal',\n",
       "  'Bouillon',\n",
       "  'Noodles',\n",
       "  'SeasoningMix',\n",
       "  'Tomatoes',\n",
       "  'Corn',\n",
       "  'Salt',\n",
       "  'Pepper',\n",
       "  'Sauerkraut',\n",
       "  'Drinks',\n",
       "  'AppleJuice',\n",
       "  'SparklingWater',\n",
       "  'IsoDrink',\n",
       "  'BigWater',\n",
       "  'Milk',\n",
       "  'BigCoke',\n",
       "  'BigLemonJuice',\n",
       "  'OrangeJuice',\n",
       "  'RedSpritzer',\n",
       "  'Snacks',\n",
       "  'Cracker',\n",
       "  'PeanutBits',\n",
       "  'CerealBarChocolateBanana',\n",
       "  'FruitBarForestFruit',\n",
       "  'NutFruitMix',\n",
       "  'CerealBarChocolate',\n",
       "  'GetIt',\n",
       "  'FruitBarApple',\n",
       "  'Fruit',\n",
       "  'Lemon',\n",
       "  'Orange',\n",
       "  'Container',\n",
       "  'Tray',\n",
       "  'Basket',\n",
       "  'Other',\n",
       "  'Trashbag',\n",
       "  'Furniture',\n",
       "  'Dishwasher',\n",
       "  'Coathanger',\n",
       "  'TrashCan',\n",
       "  'SideTable',\n",
       "  'Bed',\n",
       "  'Bookcase',\n",
       "  'Sofa',\n",
       "  'WhiteDrawer',\n",
       "  'Desk',\n",
       "  'TV',\n",
       "  'Cabinet',\n",
       "  'KitchenTable',\n",
       "  'BarTable',\n",
       "  'HighTable',\n",
       "  'Sideboard',\n",
       "  'Cupboard',\n",
       "  'Couch',\n",
       "  'Chair',\n",
       "  'CoffeeTable',\n",
       "  'TrashBin',\n",
       "  'KitchenCabinet',\n",
       "  'TVTable',\n",
       "  'CleaningStuff',\n",
       "  'DishwasherTab',\n",
       "  'Cloth'],\n",
       " 'Orange': [],\n",
       " 'OrangeJuice': [],\n",
       " 'Other': ['Trashbag'],\n",
       " 'PeanutBits': [],\n",
       " 'Pepper': [],\n",
       " 'Person': ['Female', 'Male'],\n",
       " 'Plane': [],\n",
       " 'Plate': [],\n",
       " 'RedSpritzer': [],\n",
       " 'Room': ['Hallway', 'Bar', 'Kitchen', 'LivingRoom', 'Bedroom'],\n",
       " 'Salt': [],\n",
       " 'Sauerkraut': [],\n",
       " 'SeasoningMix': [],\n",
       " 'ShowerGel': [],\n",
       " 'SideTable': [],\n",
       " 'Sideboard': [],\n",
       " 'Snacks': ['Cracker',\n",
       "  'PeanutBits',\n",
       "  'CerealBarChocolateBanana',\n",
       "  'FruitBarForestFruit',\n",
       "  'NutFruitMix',\n",
       "  'CerealBarChocolate',\n",
       "  'GetIt',\n",
       "  'FruitBarApple'],\n",
       " 'Soap': [],\n",
       " 'Sofa': [],\n",
       " 'SparklingWater': [],\n",
       " 'Spoon': [],\n",
       " 'TV': [],\n",
       " 'TVTable': [],\n",
       " 'Tomatoes': [],\n",
       " 'Toothpaste': [],\n",
       " 'TrashBin': [],\n",
       " 'TrashCan': [],\n",
       " 'Trashbag': [],\n",
       " 'Tray': [],\n",
       " 'Wall': [],\n",
       " 'WhiteDrawer': []}"
      ]
     },
     "execution_count": 6,
     "metadata": {},
     "output_type": "execute_result"
    }
   ],
   "source": [
    "ontology_interface.get_class_hierarchy()"
   ]
  },
  {
   "cell_type": "markdown",
   "metadata": {
    "slideshow": {
     "slide_type": "slide"
    }
   },
   "source": [
    "The above examples were all about retrieving information from the TBox, but we can obviously also obtain information from the ABox.\n",
    "\n",
    "To retrieve all instances of a given class, we can use the `get_instances_of` function, which returns a list with the names of all instances. The following examples illustrates this function by reading out all instances of class `Chair`."
   ]
  },
  {
   "cell_type": "code",
   "execution_count": 7,
   "metadata": {
    "slideshow": {
     "slide_type": "fragment"
    }
   },
   "outputs": [
    {
     "data": {
      "text/plain": [
       "['KitchenTableChair2',\n",
       " 'RightArmChair',\n",
       " 'BarTableChair',\n",
       " 'DeskChair',\n",
       " 'HighTableChair',\n",
       " 'LeftArmChair',\n",
       " 'KitchenTableChair1']"
      ]
     },
     "execution_count": 7,
     "metadata": {},
     "output_type": "execute_result"
    }
   ],
   "source": [
    "ontology_interface.get_instances_of('Chair')"
   ]
  },
  {
   "cell_type": "markdown",
   "metadata": {
    "slideshow": {
     "slide_type": "slide"
    }
   },
   "source": [
    "If necessary, it is also possible to retrieve a list of all instances in the ontology regardless of their class. The `get_instances` function provides this functionality."
   ]
  },
  {
   "cell_type": "code",
   "execution_count": 8,
   "metadata": {
    "scrolled": true
   },
   "outputs": [
    {
     "data": {
      "text/plain": [
       "['Thomas',\n",
       " 'Mia',\n",
       " 'Robert',\n",
       " 'David',\n",
       " 'WhiteDrawer',\n",
       " 'KitchenCabinet',\n",
       " 'Kitchen',\n",
       " 'Food',\n",
       " 'Richard',\n",
       " 'Joseph',\n",
       " 'KitchenTablePlane',\n",
       " 'CupboardPlane3',\n",
       " 'James',\n",
       " 'William',\n",
       " 'Desk',\n",
       " 'Madison',\n",
       " 'John',\n",
       " 'Sophia',\n",
       " 'KitchenCabinetopPlaneLeft2',\n",
       " 'Bed',\n",
       " 'KitchenTableChair2',\n",
       " 'TVTablePlane',\n",
       " 'SideTable',\n",
       " 'BookcasePlane2',\n",
       " 'LivingRoomSouthhWall',\n",
       " 'LivingRoomWesthWall',\n",
       " 'CoffeeTable',\n",
       " 'Sideboard',\n",
       " 'Couch',\n",
       " 'TVTable',\n",
       " 'LivingRoomNorthWall',\n",
       " 'KitchenEasthWall',\n",
       " 'Isabella',\n",
       " 'BarTableChair',\n",
       " 'BookcasePlane1',\n",
       " 'SideboardPlane',\n",
       " 'KitchenTable',\n",
       " 'HallwayWesthWall',\n",
       " 'LeftArmChair',\n",
       " 'TrashBin',\n",
       " 'HighTableChair',\n",
       " 'DeskChair',\n",
       " 'TrashCan',\n",
       " 'KitchenTableChair1',\n",
       " 'BedroomEasthWall',\n",
       " 'Snacks',\n",
       " 'BarTable',\n",
       " 'Bookcase',\n",
       " 'BedroomNorthWall',\n",
       " 'Olivia',\n",
       " 'CupboardPlane1',\n",
       " 'RightArmChair',\n",
       " 'KitchenCabinetTopPlaneRight2',\n",
       " 'Emma',\n",
       " 'Michael',\n",
       " 'KitchenWestWall',\n",
       " 'Ava',\n",
       " 'Care',\n",
       " 'DishwasherPlane',\n",
       " 'BarSouthWall',\n",
       " 'KitchenNorthWall',\n",
       " 'BedroomSouthWall',\n",
       " 'BarWestWall',\n",
       " 'KitchenCabinetPlane',\n",
       " 'Sofa',\n",
       " 'Bar',\n",
       " 'TV',\n",
       " 'Fruit',\n",
       " 'BookcasePlane3',\n",
       " 'Drinks',\n",
       " 'KitchenCabinetTopPlaneRight1',\n",
       " 'HallwayEasthWall',\n",
       " 'SideTablePlane',\n",
       " 'CupboardPlane2',\n",
       " 'WhiteDrawerPlane',\n",
       " 'Bedroom',\n",
       " 'LivingRoom',\n",
       " 'Abigail',\n",
       " 'HallwayNorthWall',\n",
       " 'HighTable',\n",
       " 'BarTablePlane',\n",
       " 'LivingRoomEastWall',\n",
       " 'KitchenSouthhWall',\n",
       " 'CoffeeTablePlane',\n",
       " 'CleaningStuff',\n",
       " 'Emily',\n",
       " 'Hallway',\n",
       " 'Charles',\n",
       " 'Dishwasher',\n",
       " 'KitchenCabinetTopPlaneLeft1',\n",
       " 'DeskPlane',\n",
       " 'HighTablePlane',\n",
       " 'Cabinet',\n",
       " 'Container',\n",
       " 'CabinetPlane',\n",
       " 'KitchenStuff',\n",
       " 'BarEasthWall',\n",
       " 'Chloe',\n",
       " 'BedroomWesthWall',\n",
       " 'BarNorthWall']"
      ]
     },
     "execution_count": 8,
     "metadata": {},
     "output_type": "execute_result"
    }
   ],
   "source": [
    "ontology_interface.get_instances()"
   ]
  },
  {
   "cell_type": "markdown",
   "metadata": {
    "slideshow": {
     "slide_type": "slide"
    }
   },
   "source": [
    "For locally edited ontologies, the query interface also provides functions for inserting and deleting class assertions: `insert_class_assertion` and `remove_class_assertion` respectively.\n",
    "\n",
    "For instance, we can insert `CornFlakes` as an instance of the `Cereal` class as follows:"
   ]
  },
  {
   "cell_type": "code",
   "execution_count": 9,
   "metadata": {
    "slideshow": {
     "slide_type": "fragment"
    }
   },
   "outputs": [],
   "source": [
    "ontology_interface.insert_class_assertion('Cereal', 'CornFlakes')"
   ]
  },
  {
   "cell_type": "code",
   "execution_count": 10,
   "metadata": {
    "slideshow": {
     "slide_type": "fragment"
    }
   },
   "outputs": [
    {
     "data": {
      "text/plain": [
       "['CornFlakes']"
      ]
     },
     "execution_count": 10,
     "metadata": {},
     "output_type": "execute_result"
    }
   ],
   "source": [
    "ontology_interface.get_instances_of('Cereal')"
   ]
  },
  {
   "cell_type": "markdown",
   "metadata": {
    "slideshow": {
     "slide_type": "slide"
    }
   },
   "source": [
    "Similarly, we can remove `CornFlakes` as an instance of the `Cereal` class as"
   ]
  },
  {
   "cell_type": "code",
   "execution_count": 11,
   "metadata": {
    "slideshow": {
     "slide_type": "fragment"
    }
   },
   "outputs": [],
   "source": [
    "ontology_interface.remove_class_assertion('Cereal', 'CornFlakes')"
   ]
  },
  {
   "cell_type": "code",
   "execution_count": 12,
   "metadata": {
    "slideshow": {
     "slide_type": "fragment"
    }
   },
   "outputs": [
    {
     "data": {
      "text/plain": [
       "[]"
      ]
     },
     "execution_count": 12,
     "metadata": {},
     "output_type": "execute_result"
    }
   ],
   "source": [
    "ontology_interface.get_instances_of('Cereal')"
   ]
  },
  {
   "cell_type": "markdown",
   "metadata": {
    "slideshow": {
     "slide_type": "slide"
    }
   },
   "source": [
    "The changes done by the `insert_class_assertion` and `remove_class_assertion` are only applied to the loaded knowledge graph, but are not saved. To actually save them to the ontology file, a call to the `update` function is necessary:"
   ]
  },
  {
   "cell_type": "code",
   "execution_count": 13,
   "metadata": {
    "slideshow": {
     "slide_type": "fragment"
    }
   },
   "outputs": [],
   "source": [
    "# ontology_interface.update()"
   ]
  },
  {
   "cell_type": "markdown",
   "metadata": {
    "slideshow": {
     "slide_type": "fragment"
    }
   },
   "source": [
    "Note that we are not going to call `update` in this example since we are loading the ontology from a non-editable file from a web URL."
   ]
  },
  {
   "cell_type": "markdown",
   "metadata": {
    "slideshow": {
     "slide_type": "fragment"
    }
   },
   "source": [
    "Changes to the ontology can also be saved to a file using the `export` function, which, instead of overwriting the original ontology file, writes the ontology to a file given as an argument."
   ]
  },
  {
   "cell_type": "code",
   "execution_count": null,
   "metadata": {
    "slideshow": {
     "slide_type": "fragment"
    }
   },
   "outputs": [],
   "source": [
    "# ontology_interface.export('file:///path/to/updated_ontology.owl')"
   ]
  },
  {
   "cell_type": "markdown",
   "metadata": {
    "slideshow": {
     "slide_type": "slide"
    }
   },
   "source": [
    "### Retrieving Object Property Data"
   ]
  },
  {
   "cell_type": "markdown",
   "metadata": {
    "slideshow": {
     "slide_type": "fragment"
    }
   },
   "source": [
    "Just as we can obtain a list of all classes, we can also obtain a list of all object properties in the ontology. We can do this using the `get_object_properties` function."
   ]
  },
  {
   "cell_type": "code",
   "execution_count": 14,
   "metadata": {
    "scrolled": true,
    "slideshow": {
     "slide_type": "fragment"
    }
   },
   "outputs": [
    {
     "name": "stdout",
     "output_type": "stream",
     "text": [
      "['onTopOf', 'connectedTo', 'inside', 'closeTo', 'below', 'toTheRightOf', 'above', 'canPlaceOn', 'locatedAt', 'defaultLocation', 'nextTo', 'oppositeTo', 'toTheLeftOf', 'hasDoor', 'closeToWall']\n"
     ]
    }
   ],
   "source": [
    "object_properties = ontology_interface.get_object_properties()\n",
    "print(object_properties)"
   ]
  },
  {
   "cell_type": "markdown",
   "metadata": {
    "slideshow": {
     "slide_type": "slide"
    }
   },
   "source": [
    "In some cases, obtaining the type of a property is also useful. The following snippet uses the `get_property_domain_range` function to obtain the domain and range of all properties in the ontology."
   ]
  },
  {
   "cell_type": "code",
   "execution_count": 15,
   "metadata": {
    "scrolled": true,
    "slideshow": {
     "slide_type": "fragment"
    }
   },
   "outputs": [
    {
     "name": "stdout",
     "output_type": "stream",
     "text": [
      "onTopOf: Object -> Object\n",
      "connectedTo: Room -> Room\n",
      "inside: Object -> Object\n",
      "closeTo: Object -> Object\n",
      "below: Object -> Object\n",
      "toTheRightOf: Object -> Object\n",
      "above: Object -> Object\n",
      "canPlaceOn: Object -> Plane\n",
      "locatedAt: Object -> Location\n",
      "defaultLocation: Object -> Furniture\n",
      "nextTo: Object -> Object\n",
      "oppositeTo: Object -> Object\n",
      "toTheLeftOf: Object -> Object\n",
      "hasDoor: Furniture -> boolean\n",
      "closeToWall: Object -> Wall\n"
     ]
    }
   ],
   "source": [
    "for prop in object_properties:\n",
    "    (prop_domain, prop_range) = ontology_interface.get_property_domain_range(prop)\n",
    "    print('{0}: {1} -> {2}'.format(prop, prop_domain, prop_range))"
   ]
  },
  {
   "cell_type": "markdown",
   "metadata": {
    "slideshow": {
     "slide_type": "slide"
    }
   },
   "source": [
    "Given a property, we can also retrieve all of its assertions using the `get_all_subjects_and_objects` function. This function returns a list of pairs in which the first element is the subject and the second element is the object.\n",
    "\n",
    "The following example returns the locations of various furniture items in the apartment."
   ]
  },
  {
   "cell_type": "code",
   "execution_count": 16,
   "metadata": {
    "scrolled": false,
    "slideshow": {
     "slide_type": "fragment"
    }
   },
   "outputs": [
    {
     "data": {
      "text/plain": [
       "[('CupBoard', 'Bar'),\n",
       " ('SideTable', 'Bedroom'),\n",
       " ('Sofa', 'Bar'),\n",
       " ('BarTable', 'Bar'),\n",
       " ('KitchenTable', 'Kitchen'),\n",
       " ('Bed', 'Bedroom'),\n",
       " ('RightArmChair', 'LivingRoom'),\n",
       " ('HighTable', 'LivingRoom'),\n",
       " ('Desk', 'Bedroom'),\n",
       " ('Sideboard', 'LivingRoom'),\n",
       " ('CoffeeTable', 'LivingRoom'),\n",
       " ('CoatHanger', 'LivingRoom'),\n",
       " ('KitchenCabinet', 'Kitchen'),\n",
       " ('TrashBin', 'LivingRoom'),\n",
       " ('Bookcase', 'LivingRoom'),\n",
       " ('TrashCan', 'Kitchen'),\n",
       " ('TVTable', 'LivingRoom'),\n",
       " ('LeftArmChair', 'LivingRoom'),\n",
       " ('Cabinet', 'Kitchen'),\n",
       " ('Couch', 'LivingRoom'),\n",
       " ('Dishwasher', 'Kitchen'),\n",
       " ('WhiteDrawer', 'Kitchen')]"
      ]
     },
     "execution_count": 16,
     "metadata": {},
     "output_type": "execute_result"
    }
   ],
   "source": [
    "ontology_interface.get_all_subjects_and_objects('locatedAt')"
   ]
  },
  {
   "cell_type": "markdown",
   "metadata": {
    "slideshow": {
     "slide_type": "slide"
    }
   },
   "source": [
    "We can also retrieve more specific information about the property assertions using the `get_subjects_of` and `get_objects_of` functions.\n",
    "\n",
    "The `get_subjects_of` function returns all subjects for a given property and object. For example, we can retrieve a list of all items located in the living room using as follows:"
   ]
  },
  {
   "cell_type": "code",
   "execution_count": 17,
   "metadata": {
    "slideshow": {
     "slide_type": "fragment"
    }
   },
   "outputs": [
    {
     "data": {
      "text/plain": [
       "['Sideboard',\n",
       " 'CoatHanger',\n",
       " 'CoffeeTable',\n",
       " 'TrashBin',\n",
       " 'Bookcase',\n",
       " 'RightArmChair',\n",
       " 'TVTable',\n",
       " 'LeftArmChair',\n",
       " 'Couch',\n",
       " 'HighTable']"
      ]
     },
     "execution_count": 17,
     "metadata": {},
     "output_type": "execute_result"
    }
   ],
   "source": [
    "ontology_interface.get_subjects_of('locatedAt', 'LivingRoom')"
   ]
  },
  {
   "cell_type": "markdown",
   "metadata": {
    "slideshow": {
     "slide_type": "slide"
    }
   },
   "source": [
    "Similarly, the `get_objects_of`function returns all objects for a given property and subject. We can for instance get the location of the desk as follows:"
   ]
  },
  {
   "cell_type": "code",
   "execution_count": 18,
   "metadata": {
    "slideshow": {
     "slide_type": "fragment"
    }
   },
   "outputs": [
    {
     "data": {
      "text/plain": [
       "['Bedroom']"
      ]
     },
     "execution_count": 18,
     "metadata": {},
     "output_type": "execute_result"
    }
   ],
   "source": [
    "ontology_interface.get_objects_of('locatedAt', 'Desk')"
   ]
  },
  {
   "cell_type": "markdown",
   "metadata": {
    "slideshow": {
     "slide_type": "fragment"
    }
   },
   "source": [
    "It should be noted that the `get_objects_of` function returns a list of objects, even though in this case we know that the desk can only be in one place. `get_objects_of` is thus a functional property."
   ]
  },
  {
   "cell_type": "markdown",
   "metadata": {
    "slideshow": {
     "slide_type": "slide"
    }
   },
   "source": [
    "As in the case of class assertions, we can also insert and remove property assertions from the ontology, using the `insert_property_assertion` and `remove_property_assertion` functions respectively. Both functions get the name of a property and a subject-object pair.\n",
    "\n",
    "We can for instance assert that the bookcase has a door as"
   ]
  },
  {
   "cell_type": "code",
   "execution_count": 19,
   "metadata": {
    "slideshow": {
     "slide_type": "fragment"
    }
   },
   "outputs": [],
   "source": [
    "ontology_interface.insert_property_assertion('hasDoor', ('Bookcase', 'True'))"
   ]
  },
  {
   "cell_type": "code",
   "execution_count": 20,
   "metadata": {
    "slideshow": {
     "slide_type": "fragment"
    }
   },
   "outputs": [
    {
     "data": {
      "text/plain": [
       "['True']"
      ]
     },
     "execution_count": 20,
     "metadata": {},
     "output_type": "execute_result"
    }
   ],
   "source": [
    "ontology_interface.get_objects_of('hasDoor', 'Bookcase')"
   ]
  },
  {
   "cell_type": "markdown",
   "metadata": {
    "slideshow": {
     "slide_type": "slide"
    }
   },
   "source": [
    "In a similar manner, we can also remove this assertion from the ontology:"
   ]
  },
  {
   "cell_type": "code",
   "execution_count": 21,
   "metadata": {
    "slideshow": {
     "slide_type": "fragment"
    }
   },
   "outputs": [],
   "source": [
    "ontology_interface.remove_property_assertion('hasDoor', ('Bookcase', 'True'))"
   ]
  },
  {
   "cell_type": "code",
   "execution_count": 22,
   "metadata": {
    "slideshow": {
     "slide_type": "fragment"
    }
   },
   "outputs": [
    {
     "data": {
      "text/plain": [
       "[]"
      ]
     },
     "execution_count": 22,
     "metadata": {},
     "output_type": "execute_result"
    }
   ],
   "source": [
    "ontology_interface.get_objects_of('hasDoor', 'Bookcase')"
   ]
  },
  {
   "cell_type": "markdown",
   "metadata": {
    "slideshow": {
     "slide_type": "slide"
    }
   },
   "source": [
    "As for class assertions, inserted and removed property assertions are only applied to the loaded knowledge graph. To actually apply save them to the ontology file, we need to call the `update` function (which we are again not doing since we are loading a non-editable ontology from a web URL)."
   ]
  },
  {
   "cell_type": "code",
   "execution_count": 23,
   "metadata": {
    "slideshow": {
     "slide_type": "fragment"
    }
   },
   "outputs": [],
   "source": [
    "# ontology_interface.update()"
   ]
  }
 ],
 "metadata": {
  "celltoolbar": "Slideshow",
  "kernelspec": {
   "display_name": "Python 3",
   "language": "python",
   "name": "python3"
  },
  "language_info": {
   "codemirror_mode": {
    "name": "ipython",
    "version": 3
   },
   "file_extension": ".py",
   "mimetype": "text/x-python",
   "name": "python",
   "nbconvert_exporter": "python",
   "pygments_lexer": "ipython3",
   "version": "3.5.2"
  }
 },
 "nbformat": 4,
 "nbformat_minor": 4
}
