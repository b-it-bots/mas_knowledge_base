{
 "cells": [
  {
   "cell_type": "markdown",
   "metadata": {},
   "source": [
    "# Ontology Query Interface Usage Examples"
   ]
  },
  {
   "cell_type": "markdown",
   "metadata": {},
   "source": [
    "The query interface is part of the `mas_knowledge_utils` package and we can import it as follows:"
   ]
  },
  {
   "cell_type": "code",
   "execution_count": 1,
   "metadata": {},
   "outputs": [],
   "source": [
    "from mas_knowledge_utils.ontology_query_interface import OntologyQueryInterface"
   ]
  },
  {
   "cell_type": "markdown",
   "metadata": {},
   "source": [
    "### Initialising an Instance of the Ontology Interface"
   ]
  },
  {
   "cell_type": "markdown",
   "metadata": {},
   "source": [
    "Instances of the query interface expect two arguments to be passed:\n",
    "* `ontology_url`: URL at which the ontology is exposed (if the ontology is read from a local file, the path should be prefixed by `file://`)\n",
    "* `ontology_class_prefix`: we assume that classes are defined in a namespace, so the TBox will contain declarations of the type `prefix:Class` or `prefix:ObjectProperty`\n",
    "\n",
    "For all examples here, we will use an ontology that was created during RoboCup German Open 2019. We host this ontology on GitHub, such that the `apartment` namespace is used for defining the ontology entities."
   ]
  },
  {
   "cell_type": "code",
   "execution_count": 2,
   "metadata": {},
   "outputs": [],
   "source": [
    "ontology_url = 'https://raw.githubusercontent.com/b-it-bots/mas_knowledge_base/master/common/ontology/apartment_go_2019.owl'\n",
    "ontology_class_prefix = 'apartment'\n",
    "ontology_interface = OntologyQueryInterface(ontology_url, ontology_class_prefix)"
   ]
  },
  {
   "cell_type": "markdown",
   "metadata": {},
   "source": [
    "### Reading Out Class Data"
   ]
  },
  {
   "cell_type": "markdown",
   "metadata": {},
   "source": [
    "The interface allows retrieving various class-related aspects from the TBox. For instance, we can obtain all classes in the ontology using the `get_classes` function:"
   ]
  },
  {
   "cell_type": "code",
   "execution_count": 3,
   "metadata": {
    "scrolled": true
   },
   "outputs": [
    {
     "name": "stdout",
     "output_type": "stream",
     "text": [
      "['Sofa', 'Toothpaste', 'CoffeeTable', 'KitchenCabinet', 'KitchenStuff', 'Fork', 'Pepper', 'BigCoke', 'Coathanger', 'FruitBarForestFruit', 'Snacks', 'PeanutBits', 'SeasoningMix', 'WhiteDrawer', 'Female', 'Other', 'Kitchen', 'Desk', 'Corn', 'Couch', 'RedSpritzer', 'Knife', 'Cracker', 'LivingRoom', 'Sideboard', 'FruitBarApple', 'Male', 'Furniture', 'Spoon', 'Container', 'Cabinet', 'CleaningStuff', 'CerealBarChocolateBanana', 'Person', 'Bedroom', 'Bed', 'SparklingWater', 'Room', 'TV', 'TrashBin', 'Trashbag', 'SideTable', 'BarTable', 'Chair', 'Cup', 'Object', 'Fruit', 'Bowl', 'KitchenTable', 'DishwasherTab', 'GetIt', 'IsoDrink', 'Care', 'ShowerGel', 'Cloth', 'Location', 'Salt', 'TVTable', 'Dishwasher', 'BigLemonJuice', 'Bouillon', 'HighTable', 'Basket', 'CerealBarChocolate', 'Milk', 'BigWater', 'AppleJuice', 'Hallway', 'Lemon', 'Drinks', 'Tomatoes', 'Cereal', 'NutFruitMix', 'Plane', 'Orange', 'OrangeJuice', 'Sauerkraut', 'TrashCan', 'Food', 'Tray', 'Noodles', 'Cupboard', 'Plate', 'Soap', 'Wall', 'Bookcase', 'Bar']\n"
     ]
    }
   ],
   "source": [
    "classes = ontology_interface.get_classes()\n",
    "print(classes)"
   ]
  },
  {
   "cell_type": "markdown",
   "metadata": {},
   "source": [
    "This ontology is rather small, so the number of classes is rather manageable."
   ]
  },
  {
   "cell_type": "markdown",
   "metadata": {},
   "source": [
    "In addition to retrieving all classes, we can also retrieve a list of all parent classes of a given class:"
   ]
  },
  {
   "cell_type": "code",
   "execution_count": 4,
   "metadata": {},
   "outputs": [
    {
     "data": {
      "text/plain": [
       "['Fork', 'KitchenStuff', 'Object']"
      ]
     },
     "execution_count": 4,
     "metadata": {},
     "output_type": "execute_result"
    }
   ],
   "source": [
    "ontology_interface.get_parent_classes_of('Fork')"
   ]
  },
  {
   "cell_type": "markdown",
   "metadata": {},
   "source": [
    "It should be noted that a class is a parent of itself, so the query class is also included in the result.\n",
    "\n",
    "In some cases, we may also be interested in retrieving all subclasses of a given class:"
   ]
  },
  {
   "cell_type": "code",
   "execution_count": 5,
   "metadata": {
    "scrolled": true
   },
   "outputs": [
    {
     "data": {
      "text/plain": [
       "['KitchenStuff', 'Plate', 'Fork', 'Spoon', 'Cup', 'Knife', 'Bowl']"
      ]
     },
     "execution_count": 5,
     "metadata": {},
     "output_type": "execute_result"
    }
   ],
   "source": [
    "ontology_interface.get_subclasses_of('KitchenStuff')"
   ]
  },
  {
   "cell_type": "markdown",
   "metadata": {},
   "source": [
    "As above, a class is a subclass of itself.\n",
    "\n",
    "The above functions implicitly allow us to extract the hierarchy of classes in the ontology. The interface also allows us to get the hierarchy explicitly in the form of a dictionary in which each key is a class name and the corresponding value is a list of subclasses of the class. This is done through the `get_class_hierarchy` function."
   ]
  },
  {
   "cell_type": "code",
   "execution_count": 6,
   "metadata": {},
   "outputs": [
    {
     "data": {
      "text/plain": [
       "{'AppleJuice': [],\n",
       " 'Bar': [],\n",
       " 'BarTable': [],\n",
       " 'Basket': [],\n",
       " 'Bed': [],\n",
       " 'Bedroom': [],\n",
       " 'BigCoke': [],\n",
       " 'BigLemonJuice': [],\n",
       " 'BigWater': [],\n",
       " 'Bookcase': [],\n",
       " 'Bouillon': [],\n",
       " 'Bowl': [],\n",
       " 'Cabinet': [],\n",
       " 'Care': ['Toothpaste', 'ShowerGel', 'Soap'],\n",
       " 'Cereal': [],\n",
       " 'CerealBarChocolate': [],\n",
       " 'CerealBarChocolateBanana': [],\n",
       " 'Chair': [],\n",
       " 'CleaningStuff': ['DishwasherTab', 'Cloth'],\n",
       " 'Cloth': [],\n",
       " 'Coathanger': [],\n",
       " 'CoffeeTable': [],\n",
       " 'Container': ['Tray', 'Basket'],\n",
       " 'Corn': [],\n",
       " 'Couch': [],\n",
       " 'Cracker': [],\n",
       " 'Cup': [],\n",
       " 'Cupboard': [],\n",
       " 'Desk': [],\n",
       " 'Dishwasher': [],\n",
       " 'DishwasherTab': [],\n",
       " 'Drinks': ['BigLemonJuice',\n",
       "  'IsoDrink',\n",
       "  'RedSpritzer',\n",
       "  'AppleJuice',\n",
       "  'OrangeJuice',\n",
       "  'BigCoke',\n",
       "  'SparklingWater',\n",
       "  'BigWater',\n",
       "  'Milk'],\n",
       " 'Female': [],\n",
       " 'Food': ['Cereal',\n",
       "  'Salt',\n",
       "  'Pepper',\n",
       "  'Tomatoes',\n",
       "  'Sauerkraut',\n",
       "  'Noodles',\n",
       "  'Corn',\n",
       "  'Bouillon',\n",
       "  'SeasoningMix'],\n",
       " 'Fork': [],\n",
       " 'Fruit': ['Lemon', 'Orange'],\n",
       " 'FruitBarApple': [],\n",
       " 'FruitBarForestFruit': [],\n",
       " 'Furniture': ['Couch',\n",
       "  'BarTable',\n",
       "  'Cabinet',\n",
       "  'HighTable',\n",
       "  'KitchenTable',\n",
       "  'Chair',\n",
       "  'Coathanger',\n",
       "  'Sofa',\n",
       "  'TV',\n",
       "  'Cupboard',\n",
       "  'KitchenCabinet',\n",
       "  'SideTable',\n",
       "  'TVTable',\n",
       "  'Dishwasher',\n",
       "  'Bed',\n",
       "  'Desk',\n",
       "  'TrashCan',\n",
       "  'Sideboard',\n",
       "  'WhiteDrawer',\n",
       "  'TrashBin',\n",
       "  'CoffeeTable',\n",
       "  'Bookcase'],\n",
       " 'GetIt': [],\n",
       " 'Hallway': [],\n",
       " 'HighTable': [],\n",
       " 'IsoDrink': [],\n",
       " 'Kitchen': [],\n",
       " 'KitchenCabinet': [],\n",
       " 'KitchenStuff': ['Plate', 'Fork', 'Spoon', 'Cup', 'Knife', 'Bowl'],\n",
       " 'KitchenTable': [],\n",
       " 'Knife': [],\n",
       " 'Lemon': [],\n",
       " 'LivingRoom': [],\n",
       " 'Location': ['Room',\n",
       "  'Kitchen',\n",
       "  'Hallway',\n",
       "  'LivingRoom',\n",
       "  'Bar',\n",
       "  'Bedroom',\n",
       "  'Wall'],\n",
       " 'Male': [],\n",
       " 'Milk': [],\n",
       " 'Noodles': [],\n",
       " 'NutFruitMix': [],\n",
       " 'Object': ['CleaningStuff',\n",
       "  'DishwasherTab',\n",
       "  'Cloth',\n",
       "  'KitchenStuff',\n",
       "  'Plate',\n",
       "  'Fork',\n",
       "  'Spoon',\n",
       "  'Cup',\n",
       "  'Knife',\n",
       "  'Bowl',\n",
       "  'Container',\n",
       "  'Tray',\n",
       "  'Basket',\n",
       "  'Food',\n",
       "  'Cereal',\n",
       "  'Salt',\n",
       "  'Pepper',\n",
       "  'Tomatoes',\n",
       "  'Sauerkraut',\n",
       "  'Noodles',\n",
       "  'Corn',\n",
       "  'Bouillon',\n",
       "  'SeasoningMix',\n",
       "  'Care',\n",
       "  'Toothpaste',\n",
       "  'ShowerGel',\n",
       "  'Soap',\n",
       "  'Snacks',\n",
       "  'FruitBarForestFruit',\n",
       "  'CerealBarChocolateBanana',\n",
       "  'PeanutBits',\n",
       "  'GetIt',\n",
       "  'Cracker',\n",
       "  'CerealBarChocolate',\n",
       "  'NutFruitMix',\n",
       "  'FruitBarApple',\n",
       "  'Fruit',\n",
       "  'Lemon',\n",
       "  'Orange',\n",
       "  'Other',\n",
       "  'Trashbag',\n",
       "  'Furniture',\n",
       "  'Couch',\n",
       "  'BarTable',\n",
       "  'Cabinet',\n",
       "  'HighTable',\n",
       "  'KitchenTable',\n",
       "  'Chair',\n",
       "  'Coathanger',\n",
       "  'Sofa',\n",
       "  'TV',\n",
       "  'Cupboard',\n",
       "  'KitchenCabinet',\n",
       "  'SideTable',\n",
       "  'TVTable',\n",
       "  'Dishwasher',\n",
       "  'Bed',\n",
       "  'Desk',\n",
       "  'TrashCan',\n",
       "  'Sideboard',\n",
       "  'WhiteDrawer',\n",
       "  'TrashBin',\n",
       "  'CoffeeTable',\n",
       "  'Bookcase',\n",
       "  'Drinks',\n",
       "  'BigLemonJuice',\n",
       "  'IsoDrink',\n",
       "  'RedSpritzer',\n",
       "  'AppleJuice',\n",
       "  'OrangeJuice',\n",
       "  'BigCoke',\n",
       "  'SparklingWater',\n",
       "  'BigWater',\n",
       "  'Milk'],\n",
       " 'Orange': [],\n",
       " 'OrangeJuice': [],\n",
       " 'Other': ['Trashbag'],\n",
       " 'PeanutBits': [],\n",
       " 'Pepper': [],\n",
       " 'Person': ['Female', 'Male'],\n",
       " 'Plane': [],\n",
       " 'Plate': [],\n",
       " 'RedSpritzer': [],\n",
       " 'Room': ['Kitchen', 'Hallway', 'LivingRoom', 'Bar', 'Bedroom'],\n",
       " 'Salt': [],\n",
       " 'Sauerkraut': [],\n",
       " 'SeasoningMix': [],\n",
       " 'ShowerGel': [],\n",
       " 'SideTable': [],\n",
       " 'Sideboard': [],\n",
       " 'Snacks': ['FruitBarForestFruit',\n",
       "  'CerealBarChocolateBanana',\n",
       "  'PeanutBits',\n",
       "  'GetIt',\n",
       "  'Cracker',\n",
       "  'CerealBarChocolate',\n",
       "  'NutFruitMix',\n",
       "  'FruitBarApple'],\n",
       " 'Soap': [],\n",
       " 'Sofa': [],\n",
       " 'SparklingWater': [],\n",
       " 'Spoon': [],\n",
       " 'TV': [],\n",
       " 'TVTable': [],\n",
       " 'Tomatoes': [],\n",
       " 'Toothpaste': [],\n",
       " 'TrashBin': [],\n",
       " 'TrashCan': [],\n",
       " 'Trashbag': [],\n",
       " 'Tray': [],\n",
       " 'Wall': [],\n",
       " 'WhiteDrawer': []}"
      ]
     },
     "execution_count": 6,
     "metadata": {},
     "output_type": "execute_result"
    }
   ],
   "source": [
    "ontology_interface.get_class_hierarchy()"
   ]
  },
  {
   "cell_type": "markdown",
   "metadata": {},
   "source": [
    "The above examples were all about retrieving information from the TBox, but we can obviously also obtain information from the ABox.\n",
    "\n",
    "To retrieve all instances of a given class, we can use the `get_instances_of` function, which returns a list with the names of all instances. The following examples illustrates this function by reading out all instances of class `Chair`."
   ]
  },
  {
   "cell_type": "code",
   "execution_count": 7,
   "metadata": {},
   "outputs": [
    {
     "data": {
      "text/plain": [
       "['BarTableChair',\n",
       " 'HighTableChair',\n",
       " 'KitchenTableChair2',\n",
       " 'RightArmChair',\n",
       " 'DeskChair',\n",
       " 'LeftArmChair',\n",
       " 'KitchenTableChair1']"
      ]
     },
     "execution_count": 7,
     "metadata": {},
     "output_type": "execute_result"
    }
   ],
   "source": [
    "ontology_interface.get_instances_of('Chair')"
   ]
  },
  {
   "cell_type": "markdown",
   "metadata": {},
   "source": [
    "If necessary, it is also possible to retrieve a list of all instances in the ontology regardless of their class. The `get_instances` function provides this functionality."
   ]
  },
  {
   "cell_type": "code",
   "execution_count": 8,
   "metadata": {
    "scrolled": true
   },
   "outputs": [
    {
     "data": {
      "text/plain": [
       "['KitchenEasthWall',\n",
       " 'KitchenWestWall',\n",
       " 'KitchenNorthWall',\n",
       " 'KitchenCabinetTopPlaneRight1',\n",
       " 'BedroomEasthWall',\n",
       " 'KitchenTablePlane',\n",
       " 'Charles',\n",
       " 'CupboardPlane1',\n",
       " 'RightArmChair',\n",
       " 'HallwayWesthWall',\n",
       " 'KitchenCabinetTopPlaneRight2',\n",
       " 'TrashCan',\n",
       " 'Bar',\n",
       " 'CupboardPlane2',\n",
       " 'Madison',\n",
       " 'LivingRoomWesthWall',\n",
       " 'Container',\n",
       " 'CabinetPlane',\n",
       " 'LivingRoomSouthhWall',\n",
       " 'CoffeeTable',\n",
       " 'Couch',\n",
       " 'William',\n",
       " 'Robert',\n",
       " 'Cabinet',\n",
       " 'BookcasePlane2',\n",
       " 'BarSouthWall',\n",
       " 'BarTable',\n",
       " 'Dishwasher',\n",
       " 'Sofa',\n",
       " 'Bookcase',\n",
       " 'Chloe',\n",
       " 'Isabella',\n",
       " 'Richard',\n",
       " 'Sophia',\n",
       " 'WhiteDrawerPlane',\n",
       " 'John',\n",
       " 'WhiteDrawer',\n",
       " 'LivingRoomNorthWall',\n",
       " 'KitchenStuff',\n",
       " 'CoffeeTablePlane',\n",
       " 'Bed',\n",
       " 'David',\n",
       " 'BedroomSouthWall',\n",
       " 'CleaningStuff',\n",
       " 'Emma',\n",
       " 'BarTablePlane',\n",
       " 'KitchenCabinetPlane',\n",
       " 'Ava',\n",
       " 'DeskChair',\n",
       " 'TVTable',\n",
       " 'Desk',\n",
       " 'KitchenTableChair1',\n",
       " 'BookcasePlane1',\n",
       " 'BarWestWall',\n",
       " 'SideTablePlane',\n",
       " 'TrashBin',\n",
       " 'HighTablePlane',\n",
       " 'TV',\n",
       " 'Drinks',\n",
       " 'SideboardPlane',\n",
       " 'SideTable',\n",
       " 'LeftArmChair',\n",
       " 'Olivia',\n",
       " 'TVTablePlane',\n",
       " 'Joseph',\n",
       " 'BedroomWesthWall',\n",
       " 'Mia',\n",
       " 'HighTable',\n",
       " 'Abigail',\n",
       " 'DeskPlane',\n",
       " 'CupboardPlane3',\n",
       " 'BarNorthWall',\n",
       " 'KitchenCabinet',\n",
       " 'Thomas',\n",
       " 'HallwayNorthWall',\n",
       " 'BarEasthWall',\n",
       " 'KitchenTableChair2',\n",
       " 'LivingRoom',\n",
       " 'LivingRoomEastWall',\n",
       " 'Bedroom',\n",
       " 'KitchenTable',\n",
       " 'Michael',\n",
       " 'DishwasherPlane',\n",
       " 'BarTableChair',\n",
       " 'Sideboard',\n",
       " 'BedroomNorthWall',\n",
       " 'KitchenCabinetTopPlaneLeft1',\n",
       " 'Emily',\n",
       " 'Care',\n",
       " 'BookcasePlane3',\n",
       " 'KitchenSouthhWall',\n",
       " 'Hallway',\n",
       " 'HighTableChair',\n",
       " 'HallwayEasthWall',\n",
       " 'James',\n",
       " 'KitchenCabinetopPlaneLeft2',\n",
       " 'Food',\n",
       " 'Fruit',\n",
       " 'Kitchen',\n",
       " 'Snacks']"
      ]
     },
     "execution_count": 8,
     "metadata": {},
     "output_type": "execute_result"
    }
   ],
   "source": [
    "ontology_interface.get_instances()"
   ]
  },
  {
   "cell_type": "markdown",
   "metadata": {},
   "source": [
    "For locally edited ontologies, the query interface also provides functions for inserting and deleting class assertions: `insert_class_assertion` and `remove_class_assertion` respectively.\n",
    "\n",
    "For instance, we can insert `CornFlakes` as an instance of the `Cereal` class as follows:"
   ]
  },
  {
   "cell_type": "code",
   "execution_count": 9,
   "metadata": {},
   "outputs": [],
   "source": [
    "ontology_interface.insert_class_assertion('Cereal', 'CornFlakes')"
   ]
  },
  {
   "cell_type": "code",
   "execution_count": 10,
   "metadata": {},
   "outputs": [
    {
     "data": {
      "text/plain": [
       "['CornFlakes']"
      ]
     },
     "execution_count": 10,
     "metadata": {},
     "output_type": "execute_result"
    }
   ],
   "source": [
    "ontology_interface.get_instances_of('Cereal')"
   ]
  },
  {
   "cell_type": "markdown",
   "metadata": {},
   "source": [
    "Similarly, we can remove `CornFlakes` as an instance of the `Cereal` class as"
   ]
  },
  {
   "cell_type": "code",
   "execution_count": 11,
   "metadata": {},
   "outputs": [],
   "source": [
    "ontology_interface.remove_class_assertion('Cereal', 'CornFlakes')"
   ]
  },
  {
   "cell_type": "code",
   "execution_count": 12,
   "metadata": {},
   "outputs": [
    {
     "data": {
      "text/plain": [
       "[]"
      ]
     },
     "execution_count": 12,
     "metadata": {},
     "output_type": "execute_result"
    }
   ],
   "source": [
    "ontology_interface.get_instances_of('Cereal')"
   ]
  },
  {
   "cell_type": "markdown",
   "metadata": {},
   "source": [
    "The changes done by the `insert_class_assertion` and `remove_class_assertion` are only applied to the loaded knowledge graph, but are not saved. To actually save them to the ontology file, a call to the `update` function is necessary:"
   ]
  },
  {
   "cell_type": "code",
   "execution_count": 13,
   "metadata": {},
   "outputs": [],
   "source": [
    "# ontology_interface.update()"
   ]
  },
  {
   "cell_type": "markdown",
   "metadata": {},
   "source": [
    "Note that we are not going to call `update` in this example since we are loading the ontology from a non-editable file from a web URL."
   ]
  },
  {
   "cell_type": "markdown",
   "metadata": {},
   "source": [
    "### Retrieving Object Property Data"
   ]
  },
  {
   "cell_type": "markdown",
   "metadata": {},
   "source": [
    "Just as we can obtain a list of all classes, we can also obtain a list of all object properties in the ontology. We can do this using the `get_object_properties` function."
   ]
  },
  {
   "cell_type": "code",
   "execution_count": 14,
   "metadata": {
    "scrolled": true
   },
   "outputs": [
    {
     "name": "stdout",
     "output_type": "stream",
     "text": [
      "['nextTo', 'hasDoor', 'toTheLeftOf', 'toTheRightOf', 'inside', 'connectedTo', 'closeTo', 'above', 'locatedAt', 'defaultLocation', 'below', 'oppositeTo', 'onTopOf', 'canPlaceOn', 'closeToWall']\n"
     ]
    }
   ],
   "source": [
    "object_properties = ontology_interface.get_object_properties()\n",
    "print(object_properties)"
   ]
  },
  {
   "cell_type": "markdown",
   "metadata": {},
   "source": [
    "In some cases, obtaining the type of a property is also useful. The following snippet uses the `get_property_domain_range` function to obtain the domain and range of all properties in the ontology."
   ]
  },
  {
   "cell_type": "code",
   "execution_count": 15,
   "metadata": {
    "scrolled": true
   },
   "outputs": [
    {
     "name": "stdout",
     "output_type": "stream",
     "text": [
      "nextTo: Object -> Object\n",
      "hasDoor: Furniture -> boolean\n",
      "toTheLeftOf: Object -> Object\n",
      "toTheRightOf: Object -> Object\n",
      "inside: Object -> Object\n",
      "connectedTo: Room -> Room\n",
      "closeTo: Object -> Object\n",
      "above: Object -> Object\n",
      "locatedAt: Object -> Location\n",
      "defaultLocation: Object -> Furniture\n",
      "below: Object -> Object\n",
      "oppositeTo: Object -> Object\n",
      "onTopOf: Object -> Object\n",
      "canPlaceOn: Object -> Plane\n",
      "closeToWall: Object -> Wall\n"
     ]
    }
   ],
   "source": [
    "for prop in object_properties:\n",
    "    (prop_domain, prop_range) = ontology_interface.get_property_domain_range(prop)\n",
    "    print('{0}: {1} -> {2}'.format(prop, prop_domain, prop_range))"
   ]
  },
  {
   "cell_type": "markdown",
   "metadata": {},
   "source": [
    "Given a property, we can also retrieve all of its assertions using the `get_all_subjects_and_objects` function. This function returns a list of pairs in which the first element is the subject and the second element is the object.\n",
    "\n",
    "The following example returns the locations of various furniture items in the apartment."
   ]
  },
  {
   "cell_type": "code",
   "execution_count": 16,
   "metadata": {
    "scrolled": false
   },
   "outputs": [
    {
     "data": {
      "text/plain": [
       "[('HighTable', 'LivingRoom'),\n",
       " ('WhiteDrawer', 'Kitchen'),\n",
       " ('Sofa', 'Bar'),\n",
       " ('KitchenCabinet', 'Kitchen'),\n",
       " ('SideTable', 'Bedroom'),\n",
       " ('BarTable', 'Bar'),\n",
       " ('Bed', 'Bedroom'),\n",
       " ('Bookcase', 'LivingRoom'),\n",
       " ('CoffeeTable', 'LivingRoom'),\n",
       " ('RightArmChair', 'LivingRoom'),\n",
       " ('LeftArmChair', 'LivingRoom'),\n",
       " ('CoatHanger', 'LivingRoom'),\n",
       " ('Desk', 'Bedroom'),\n",
       " ('CupBoard', 'Bar'),\n",
       " ('TrashBin', 'LivingRoom'),\n",
       " ('KitchenTable', 'Kitchen'),\n",
       " ('TrashCan', 'Kitchen'),\n",
       " ('Sideboard', 'LivingRoom'),\n",
       " ('Dishwasher', 'Kitchen'),\n",
       " ('Couch', 'LivingRoom'),\n",
       " ('TVTable', 'LivingRoom'),\n",
       " ('Cabinet', 'Kitchen')]"
      ]
     },
     "execution_count": 16,
     "metadata": {},
     "output_type": "execute_result"
    }
   ],
   "source": [
    "ontology_interface.get_all_subjects_and_objects('locatedAt')"
   ]
  },
  {
   "cell_type": "markdown",
   "metadata": {},
   "source": [
    "We can also retrieve more specific information about the property assertions using the `get_subjects_of` and `get_objects_of` functions.\n",
    "\n",
    "The `get_subjects_of` function returns all subjects for a given property and object. For example, we can retrieve a list of all items located in the living room using as follows:"
   ]
  },
  {
   "cell_type": "code",
   "execution_count": 17,
   "metadata": {},
   "outputs": [
    {
     "data": {
      "text/plain": [
       "['HighTable',\n",
       " 'TrashBin',\n",
       " 'Sideboard',\n",
       " 'Bookcase',\n",
       " 'CoffeeTable',\n",
       " 'RightArmChair',\n",
       " 'Couch',\n",
       " 'LeftArmChair',\n",
       " 'CoatHanger',\n",
       " 'TVTable']"
      ]
     },
     "execution_count": 17,
     "metadata": {},
     "output_type": "execute_result"
    }
   ],
   "source": [
    "ontology_interface.get_subjects_of('locatedAt', 'LivingRoom')"
   ]
  },
  {
   "cell_type": "markdown",
   "metadata": {},
   "source": [
    "Similarly, the `get_objects_of`function returns all objects for a given property and subject. We can for instance get the location of the desk as follows:"
   ]
  },
  {
   "cell_type": "code",
   "execution_count": 19,
   "metadata": {},
   "outputs": [
    {
     "data": {
      "text/plain": [
       "['Bedroom']"
      ]
     },
     "execution_count": 19,
     "metadata": {},
     "output_type": "execute_result"
    }
   ],
   "source": [
    "ontology_interface.get_objects_of('locatedAt', 'Desk')"
   ]
  },
  {
   "cell_type": "markdown",
   "metadata": {},
   "source": [
    "It should be noted that the `get_objects_of` function returns a list of objects, even though in this case we know that the desk can only be in one place. `get_objects_of` is thus a functional property."
   ]
  },
  {
   "cell_type": "markdown",
   "metadata": {},
   "source": [
    "As in the case of class assertions, we can also insert and remove property assertions from the ontology, using the `insert_property_assertion` and `remove_property_assertion` functions respectively. Both functions get the name of a property and a subject-object pair.\n",
    "\n",
    "We can for instance assert that the bookcase has a door as"
   ]
  },
  {
   "cell_type": "code",
   "execution_count": 22,
   "metadata": {},
   "outputs": [],
   "source": [
    "ontology_interface.insert_property_assertion('hasDoor', ('Bookcase', 'True'))"
   ]
  },
  {
   "cell_type": "code",
   "execution_count": 23,
   "metadata": {},
   "outputs": [
    {
     "data": {
      "text/plain": [
       "['True']"
      ]
     },
     "execution_count": 23,
     "metadata": {},
     "output_type": "execute_result"
    }
   ],
   "source": [
    "ontology_interface.get_objects_of('hasDoor', 'Bookcase')"
   ]
  },
  {
   "cell_type": "markdown",
   "metadata": {},
   "source": [
    "In a similar manner, we can also remove this assertion from the ontology:"
   ]
  },
  {
   "cell_type": "code",
   "execution_count": 24,
   "metadata": {},
   "outputs": [],
   "source": [
    "ontology_interface.remove_property_assertion('hasDoor', ('Bookcase', 'True'))"
   ]
  },
  {
   "cell_type": "code",
   "execution_count": 25,
   "metadata": {},
   "outputs": [
    {
     "data": {
      "text/plain": [
       "[]"
      ]
     },
     "execution_count": 25,
     "metadata": {},
     "output_type": "execute_result"
    }
   ],
   "source": [
    "ontology_interface.get_objects_of('hasDoor', 'Bookcase')"
   ]
  },
  {
   "cell_type": "markdown",
   "metadata": {},
   "source": [
    "As for class assertions, inserted and removed property assertions are only applied to the loaded knowledge graph. To actually apply save them to the ontology file, we need to call the `update` function (which we are again not doing since we are loading a non-editable ontology from a web URL)."
   ]
  },
  {
   "cell_type": "code",
   "execution_count": null,
   "metadata": {},
   "outputs": [],
   "source": [
    "# ontology_interface.update()"
   ]
  }
 ],
 "metadata": {
  "kernelspec": {
   "display_name": "Python 3",
   "language": "python",
   "name": "python3"
  },
  "language_info": {
   "codemirror_mode": {
    "name": "ipython",
    "version": 3
   },
   "file_extension": ".py",
   "mimetype": "text/x-python",
   "name": "python",
   "nbconvert_exporter": "python",
   "pygments_lexer": "ipython3",
   "version": "3.5.2"
  }
 },
 "nbformat": 4,
 "nbformat_minor": 4
}
