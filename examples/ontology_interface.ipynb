{
 "cells": [
  {
   "cell_type": "markdown",
   "metadata": {},
   "source": [
    "# Ontology Query Interface Usage Examples"
   ]
  },
  {
   "cell_type": "markdown",
   "metadata": {},
   "source": [
    "The query interface is part of the `mas_knowledge_utils` package and we can import it as follows:"
   ]
  },
  {
   "cell_type": "code",
   "execution_count": 1,
   "metadata": {},
   "outputs": [],
   "source": [
    "from mas_knowledge_utils.ontology_query_interface import OntologyQueryInterface"
   ]
  },
  {
   "cell_type": "markdown",
   "metadata": {},
   "source": [
    "### Initialising an Instance of the Ontology Interface"
   ]
  },
  {
   "cell_type": "markdown",
   "metadata": {},
   "source": [
    "Instances of the query interface expect two arguments to be passed:\n",
    "* `ontology_url`: URL at which the ontology is exposed (if the ontology is read from a local file, the path should be prefixed by `file://`)\n",
    "* `ontology_class_prefix`: we assume that classes are defined in a namespace, so the TBox will contain declarations of the type `prefix:Class` or `prefix:ObjectProperty`\n",
    "\n",
    "For all examples here, we will use an ontology that was created during RoboCup German Open 2019. We host this ontology on GitHub, such that the `apartment` namespace is used for defining the ontology entities."
   ]
  },
  {
   "cell_type": "code",
   "execution_count": 2,
   "metadata": {},
   "outputs": [],
   "source": [
    "ontology_url = 'https://raw.githubusercontent.com/b-it-bots/mas_knowledge_base/master/common/ontology/apartment_go_2019.owl'\n",
    "ontology_class_prefix = 'apartment'\n",
    "ontology_interface = OntologyQueryInterface(ontology_url, ontology_class_prefix)"
   ]
  },
  {
   "cell_type": "markdown",
   "metadata": {},
   "source": [
    "### Reading Out Class Data"
   ]
  },
  {
   "cell_type": "markdown",
   "metadata": {},
   "source": [
    "The interface allows retrieving various aspects from the TBox. For instance, we can retrieve all classes in the ontology using the `get_classes` function:"
   ]
  },
  {
   "cell_type": "code",
   "execution_count": 14,
   "metadata": {
    "scrolled": true
   },
   "outputs": [
    {
     "name": "stdout",
     "output_type": "stream",
     "text": [
      "['Sofa', 'Bedroom', 'Person', 'Milk', 'Container', 'Snacks', 'Spoon', 'Kitchen', 'KitchenCabinet', 'Cup', 'Cupboard', 'ShowerGel', 'Fruit', 'Coathanger', 'TVTable', 'DishwasherTab', 'Object', 'CerealBarChocolateBanana', 'LivingRoom', 'Other', 'Cereal', 'HighTable', 'AppleJuice', 'BarTable', 'WhiteDrawer', 'TrashBin', 'TV', 'CoffeeTable', 'Bar', 'Plate', 'Plane', 'Location', 'Toothpaste', 'Noodles', 'RedSpritzer', 'Chair', 'Corn', 'Furniture', 'Trashbag', 'Tomatoes', 'BigCoke', 'SideTable', 'KitchenStuff', 'NutFruitMix', 'OrangeJuice', 'KitchenTable', 'Wall', 'GetIt', 'Male', 'SparklingWater', 'Cabinet', 'TrashCan', 'Fork', 'Soap', 'Sauerkraut', 'Hallway', 'Bowl', 'CleaningStuff', 'FruitBarApple', 'Bed', 'Orange', 'IsoDrink', 'Pepper', 'Salt', 'BigWater', 'Tray', 'Drinks', 'Bookcase', 'Bouillon', 'Female', 'Room', 'FruitBarForestFruit', 'Cloth', 'Couch', 'Basket', 'Food', 'Desk', 'Care', 'Lemon', 'Sideboard', 'PeanutBits', 'CerealBarChocolate', 'Knife', 'SeasoningMix', 'Dishwasher', 'Cracker', 'BigLemonJuice']\n"
     ]
    }
   ],
   "source": [
    "classes = ontology_interface.get_classes()\n",
    "print(classes)"
   ]
  },
  {
   "cell_type": "markdown",
   "metadata": {},
   "source": [
    "This ontology is rather small, so the number of classes is rather manageable."
   ]
  },
  {
   "cell_type": "markdown",
   "metadata": {},
   "source": [
    "In addition to retrieving all classes, we can also retrieve a list of all parent classes of a given class:"
   ]
  },
  {
   "cell_type": "code",
   "execution_count": 3,
   "metadata": {},
   "outputs": [
    {
     "data": {
      "text/plain": [
       "['Fork', 'KitchenStuff', 'Object']"
      ]
     },
     "execution_count": 3,
     "metadata": {},
     "output_type": "execute_result"
    }
   ],
   "source": [
    "ontology_interface.get_parent_classes_of('Fork')"
   ]
  },
  {
   "cell_type": "markdown",
   "metadata": {},
   "source": [
    "It should be noted that a class is a parent of itself, so the query class is also included in the result.\n",
    "\n",
    "In some cases, we may also be interested in retrieving all subclasses of a given class:"
   ]
  },
  {
   "cell_type": "code",
   "execution_count": 4,
   "metadata": {
    "scrolled": true
   },
   "outputs": [
    {
     "data": {
      "text/plain": [
       "['KitchenStuff', 'Knife', 'Cup', 'Bowl', 'Plate', 'Spoon', 'Fork']"
      ]
     },
     "execution_count": 4,
     "metadata": {},
     "output_type": "execute_result"
    }
   ],
   "source": [
    "ontology_interface.get_subclasses_of('KitchenStuff')"
   ]
  },
  {
   "cell_type": "markdown",
   "metadata": {},
   "source": [
    "As above, a class is a subclass of itself.\n",
    "\n",
    "The above functions implicitly allow us to extract the hierarchy of classes in the ontology. The interface also allows us to get the hierarchy explicitly in the form of a dictionary in which each key is a class name and the corresponding value is a list of subclasses of the class. This is done through the `get_class_hierarchy` function."
   ]
  },
  {
   "cell_type": "code",
   "execution_count": 7,
   "metadata": {},
   "outputs": [
    {
     "data": {
      "text/plain": [
       "{'AppleJuice': [],\n",
       " 'Bar': [],\n",
       " 'BarTable': [],\n",
       " 'Basket': [],\n",
       " 'Bed': [],\n",
       " 'Bedroom': [],\n",
       " 'BigCoke': [],\n",
       " 'BigLemonJuice': [],\n",
       " 'BigWater': [],\n",
       " 'Bookcase': [],\n",
       " 'Bouillon': [],\n",
       " 'Bowl': [],\n",
       " 'Cabinet': [],\n",
       " 'Care': ['ShowerGel', 'Soap', 'Toothpaste'],\n",
       " 'Cereal': [],\n",
       " 'CerealBarChocolate': [],\n",
       " 'CerealBarChocolateBanana': [],\n",
       " 'Chair': [],\n",
       " 'CleaningStuff': ['Cloth', 'DishwasherTab'],\n",
       " 'Cloth': [],\n",
       " 'Coathanger': [],\n",
       " 'CoffeeTable': [],\n",
       " 'Container': ['Tray', 'Basket'],\n",
       " 'Corn': [],\n",
       " 'Couch': [],\n",
       " 'Cracker': [],\n",
       " 'Cup': [],\n",
       " 'Cupboard': [],\n",
       " 'Desk': [],\n",
       " 'Dishwasher': [],\n",
       " 'DishwasherTab': [],\n",
       " 'Drinks': ['BigCoke',\n",
       "  'Milk',\n",
       "  'BigWater',\n",
       "  'SparklingWater',\n",
       "  'BigLemonJuice',\n",
       "  'OrangeJuice',\n",
       "  'RedSpritzer',\n",
       "  'IsoDrink',\n",
       "  'AppleJuice'],\n",
       " 'Female': [],\n",
       " 'Food': ['Cereal',\n",
       "  'Tomatoes',\n",
       "  'Noodles',\n",
       "  'Salt',\n",
       "  'Corn',\n",
       "  'SeasoningMix',\n",
       "  'Pepper',\n",
       "  'Bouillon',\n",
       "  'Sauerkraut'],\n",
       " 'Fork': [],\n",
       " 'Fruit': ['Lemon', 'Orange'],\n",
       " 'FruitBarApple': [],\n",
       " 'FruitBarForestFruit': [],\n",
       " 'Furniture': ['KitchenCabinet',\n",
       "  'CoffeeTable',\n",
       "  'Sofa',\n",
       "  'Cabinet',\n",
       "  'Bookcase',\n",
       "  'KitchenTable',\n",
       "  'Desk',\n",
       "  'Couch',\n",
       "  'TrashCan',\n",
       "  'SideTable',\n",
       "  'Sideboard',\n",
       "  'HighTable',\n",
       "  'Cupboard',\n",
       "  'Bed',\n",
       "  'Dishwasher',\n",
       "  'TrashBin',\n",
       "  'TVTable',\n",
       "  'BarTable',\n",
       "  'WhiteDrawer',\n",
       "  'Chair',\n",
       "  'TV',\n",
       "  'Coathanger'],\n",
       " 'GetIt': [],\n",
       " 'Hallway': [],\n",
       " 'HighTable': [],\n",
       " 'IsoDrink': [],\n",
       " 'Kitchen': [],\n",
       " 'KitchenCabinet': [],\n",
       " 'KitchenStuff': ['Knife', 'Cup', 'Bowl', 'Plate', 'Spoon', 'Fork'],\n",
       " 'KitchenTable': [],\n",
       " 'Knife': [],\n",
       " 'Lemon': [],\n",
       " 'LivingRoom': [],\n",
       " 'Location': ['Room',\n",
       "  'Bar',\n",
       "  'Kitchen',\n",
       "  'Bedroom',\n",
       "  'Hallway',\n",
       "  'LivingRoom',\n",
       "  'Wall'],\n",
       " 'Male': [],\n",
       " 'Milk': [],\n",
       " 'Noodles': [],\n",
       " 'NutFruitMix': [],\n",
       " 'Object': ['Care',\n",
       "  'ShowerGel',\n",
       "  'Soap',\n",
       "  'Toothpaste',\n",
       "  'KitchenStuff',\n",
       "  'Knife',\n",
       "  'Cup',\n",
       "  'Bowl',\n",
       "  'Plate',\n",
       "  'Spoon',\n",
       "  'Fork',\n",
       "  'Fruit',\n",
       "  'Lemon',\n",
       "  'Orange',\n",
       "  'Snacks',\n",
       "  'FruitBarForestFruit',\n",
       "  'FruitBarApple',\n",
       "  'NutFruitMix',\n",
       "  'CerealBarChocolateBanana',\n",
       "  'Cracker',\n",
       "  'CerealBarChocolate',\n",
       "  'PeanutBits',\n",
       "  'GetIt',\n",
       "  'Furniture',\n",
       "  'KitchenCabinet',\n",
       "  'CoffeeTable',\n",
       "  'Sofa',\n",
       "  'Cabinet',\n",
       "  'Bookcase',\n",
       "  'KitchenTable',\n",
       "  'Desk',\n",
       "  'Couch',\n",
       "  'TrashCan',\n",
       "  'SideTable',\n",
       "  'Sideboard',\n",
       "  'HighTable',\n",
       "  'Cupboard',\n",
       "  'Bed',\n",
       "  'Dishwasher',\n",
       "  'TrashBin',\n",
       "  'TVTable',\n",
       "  'BarTable',\n",
       "  'WhiteDrawer',\n",
       "  'Chair',\n",
       "  'TV',\n",
       "  'Coathanger',\n",
       "  'Food',\n",
       "  'Cereal',\n",
       "  'Tomatoes',\n",
       "  'Noodles',\n",
       "  'Salt',\n",
       "  'Corn',\n",
       "  'SeasoningMix',\n",
       "  'Pepper',\n",
       "  'Bouillon',\n",
       "  'Sauerkraut',\n",
       "  'Container',\n",
       "  'Tray',\n",
       "  'Basket',\n",
       "  'CleaningStuff',\n",
       "  'Cloth',\n",
       "  'DishwasherTab',\n",
       "  'Other',\n",
       "  'Trashbag',\n",
       "  'Drinks',\n",
       "  'BigCoke',\n",
       "  'Milk',\n",
       "  'BigWater',\n",
       "  'SparklingWater',\n",
       "  'BigLemonJuice',\n",
       "  'OrangeJuice',\n",
       "  'RedSpritzer',\n",
       "  'IsoDrink',\n",
       "  'AppleJuice'],\n",
       " 'Orange': [],\n",
       " 'OrangeJuice': [],\n",
       " 'Other': ['Trashbag'],\n",
       " 'PeanutBits': [],\n",
       " 'Pepper': [],\n",
       " 'Person': ['Female', 'Male'],\n",
       " 'Plane': [],\n",
       " 'Plate': [],\n",
       " 'RedSpritzer': [],\n",
       " 'Room': ['Bar', 'Kitchen', 'Bedroom', 'Hallway', 'LivingRoom'],\n",
       " 'Salt': [],\n",
       " 'Sauerkraut': [],\n",
       " 'SeasoningMix': [],\n",
       " 'ShowerGel': [],\n",
       " 'SideTable': [],\n",
       " 'Sideboard': [],\n",
       " 'Snacks': ['FruitBarForestFruit',\n",
       "  'FruitBarApple',\n",
       "  'NutFruitMix',\n",
       "  'CerealBarChocolateBanana',\n",
       "  'Cracker',\n",
       "  'CerealBarChocolate',\n",
       "  'PeanutBits',\n",
       "  'GetIt'],\n",
       " 'Soap': [],\n",
       " 'Sofa': [],\n",
       " 'SparklingWater': [],\n",
       " 'Spoon': [],\n",
       " 'TV': [],\n",
       " 'TVTable': [],\n",
       " 'Tomatoes': [],\n",
       " 'Toothpaste': [],\n",
       " 'TrashBin': [],\n",
       " 'TrashCan': [],\n",
       " 'Trashbag': [],\n",
       " 'Tray': [],\n",
       " 'Wall': [],\n",
       " 'WhiteDrawer': []}"
      ]
     },
     "execution_count": 7,
     "metadata": {},
     "output_type": "execute_result"
    }
   ],
   "source": [
    "ontology_interface.get_class_hierarchy()"
   ]
  },
  {
   "cell_type": "markdown",
   "metadata": {},
   "source": [
    "### Retrieving Object Property Data"
   ]
  },
  {
   "cell_type": "markdown",
   "metadata": {},
   "source": [
    "Just as we can obtain a list of all classes, we can also obtain a list of all object properties in the ontology. We can do this using the `get_object_properties` function."
   ]
  },
  {
   "cell_type": "code",
   "execution_count": 8,
   "metadata": {
    "scrolled": true
   },
   "outputs": [
    {
     "name": "stdout",
     "output_type": "stream",
     "text": [
      "['defaultLocation', 'locatedAt', 'toTheRightOf', 'oppositeTo', 'below', 'closeToWall', 'nextTo', 'canPlaceOn', 'hasDoor', 'above', 'connectedTo', 'closeTo', 'toTheLeftOf', 'inside', 'onTopOf']\n"
     ]
    }
   ],
   "source": [
    "object_properties = ontology_interface.get_object_properties()\n",
    "print(object_properties)"
   ]
  },
  {
   "cell_type": "markdown",
   "metadata": {},
   "source": [
    "In some cases, obtaining the type of a property is also useful. The following snippet uses the `get_property_domain_range` function to obtain the domain and range of all properties in the ontology."
   ]
  },
  {
   "cell_type": "code",
   "execution_count": 9,
   "metadata": {
    "scrolled": true
   },
   "outputs": [
    {
     "name": "stdout",
     "output_type": "stream",
     "text": [
      "defaultLocation: Object -> Furniture\n",
      "locatedAt: Object -> Location\n",
      "toTheRightOf: Object -> Object\n",
      "oppositeTo: Object -> Object\n",
      "below: Object -> Object\n",
      "closeToWall: Object -> Wall\n",
      "nextTo: Object -> Object\n",
      "canPlaceOn: Object -> Plane\n",
      "hasDoor: Furniture -> boolean\n",
      "above: Object -> Object\n",
      "connectedTo: Room -> Room\n",
      "closeTo: Object -> Object\n",
      "toTheLeftOf: Object -> Object\n",
      "inside: Object -> Object\n",
      "onTopOf: Object -> Object\n"
     ]
    }
   ],
   "source": [
    "for prop in object_properties:\n",
    "    (prop_domain, prop_range) = ontology_interface.get_property_domain_range(prop)\n",
    "    print('{0}: {1} -> {2}'.format(prop, prop_domain, prop_range))"
   ]
  },
  {
   "cell_type": "markdown",
   "metadata": {},
   "source": [
    "Given a property, we can also retrieve all of its assertions using the `get_all_subjects_and_objects` function. This function returns a list of pairs in which the first element is the subject and the second element is the object.\n",
    "\n",
    "The following example returns the locations of various furniture items in the apartment."
   ]
  },
  {
   "cell_type": "code",
   "execution_count": 10,
   "metadata": {
    "scrolled": false
   },
   "outputs": [
    {
     "data": {
      "text/plain": [
       "[('Couch', 'LivingRoom'),\n",
       " ('Desk', 'Bedroom'),\n",
       " ('CoffeeTable', 'LivingRoom'),\n",
       " ('Bookcase', 'LivingRoom'),\n",
       " ('LeftArmChair', 'LivingRoom'),\n",
       " ('Dishwasher', 'Kitchen'),\n",
       " ('Cabinet', 'Kitchen'),\n",
       " ('Sofa', 'Bar'),\n",
       " ('RightArmChair', 'LivingRoom'),\n",
       " ('SideTable', 'Bedroom'),\n",
       " ('Bed', 'Bedroom'),\n",
       " ('Sideboard', 'LivingRoom'),\n",
       " ('WhiteDrawer', 'Kitchen'),\n",
       " ('KitchenTable', 'Kitchen'),\n",
       " ('CupBoard', 'Bar'),\n",
       " ('BarTable', 'Bar'),\n",
       " ('HighTable', 'LivingRoom'),\n",
       " ('KitchenCabinet', 'Kitchen'),\n",
       " ('TrashCan', 'Kitchen'),\n",
       " ('CoatHanger', 'LivingRoom'),\n",
       " ('TrashBin', 'LivingRoom'),\n",
       " ('TVTable', 'LivingRoom')]"
      ]
     },
     "execution_count": 10,
     "metadata": {},
     "output_type": "execute_result"
    }
   ],
   "source": [
    "ontology_interface.get_all_subjects_and_objects('locatedAt')"
   ]
  }
 ],
 "metadata": {
  "kernelspec": {
   "display_name": "Python 3",
   "language": "python",
   "name": "python3"
  },
  "language_info": {
   "codemirror_mode": {
    "name": "ipython",
    "version": 3
   },
   "file_extension": ".py",
   "mimetype": "text/x-python",
   "name": "python",
   "nbconvert_exporter": "python",
   "pygments_lexer": "ipython3",
   "version": "3.5.2"
  }
 },
 "nbformat": 4,
 "nbformat_minor": 4
}
