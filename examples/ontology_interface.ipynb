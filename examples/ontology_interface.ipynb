{
 "cells": [
  {
   "cell_type": "markdown",
   "metadata": {
    "slideshow": {
     "slide_type": "slide"
    }
   },
   "source": [
    "# Ontology Query Interface Usage Examples"
   ]
  },
  {
   "cell_type": "markdown",
   "metadata": {
    "slideshow": {
     "slide_type": "fragment"
    }
   },
   "source": [
    "The query interface is part of the `mas_knowledge_utils` package and we can import it as follows:"
   ]
  },
  {
   "cell_type": "code",
   "execution_count": 1,
   "metadata": {
    "slideshow": {
     "slide_type": "fragment"
    }
   },
   "outputs": [],
   "source": [
    "from mas_knowledge_utils.ontology_query_interface import OntologyQueryInterface"
   ]
  },
  {
   "cell_type": "markdown",
   "metadata": {
    "slideshow": {
     "slide_type": "slide"
    }
   },
   "source": [
    "### Initialising an Instance of the Ontology Interface"
   ]
  },
  {
   "cell_type": "markdown",
   "metadata": {
    "slideshow": {
     "slide_type": "fragment"
    }
   },
   "source": [
    "Instances of the query interface expect one mandatory and three optional arguments can be passed:\n",
    "* `ontology_url` (mandatory): URL of the ontology file (if the ontology is read from a local file, the path should be prefixed by `file://`)\n",
    "* `base_url` (optional): a base URL for the ontology entities (if defined in the ontology itself, e.g. `http://my_ontology.owl`)\n",
    "* `entity_delimiter` (optional): a delimiter for entity names in the ontology (a delimiter will be used if the base URL is defined; for example, if the URL is `http://my_ontology.owl` and the delimiter is `#`, entity URLs will be of the form `http://my_ontology.owl#Entity`)\n",
    "* `ontology_class_prefix` (optional): if classes are defined in a namespace, the TBox will contain declarations of the type `prefix:Class` or `prefix:ObjectProperty`\n",
    "\n",
    "For all examples here, we will use an ontology that was created during RoboCup German Open 2019. We host this ontology on GitHub, such that the `apartment` namespace is used for defining the ontology entities. No base URL is used for this ontology; in this case, `/` is a default entity delimiter."
   ]
  },
  {
   "cell_type": "code",
   "execution_count": 2,
   "metadata": {
    "slideshow": {
     "slide_type": "fragment"
    }
   },
   "outputs": [],
   "source": [
    "ontology_url = 'https://raw.githubusercontent.com/b-it-bots/mas_knowledge_base/master/common/ontology/apartment_go_2019.owl'\n",
    "ontology_base_url = None\n",
    "ontology_entity_delimiter = '/'\n",
    "ontology_class_prefix = 'apartment'\n",
    "ontology_interface = OntologyQueryInterface(ontology_file=ontology_url,\n",
    "                                            base_url=ontology_base_url,\n",
    "                                            entity_delimiter=ontology_entity_delimiter,\n",
    "                                            class_prefix=ontology_class_prefix)"
   ]
  },
  {
   "cell_type": "markdown",
   "metadata": {
    "slideshow": {
     "slide_type": "slide"
    }
   },
   "source": [
    "### Reading Out Class Data"
   ]
  },
  {
   "cell_type": "markdown",
   "metadata": {
    "slideshow": {
     "slide_type": "fragment"
    }
   },
   "source": [
    "The interface allows retrieving various class-related aspects from the TBox. For instance, we can obtain all classes in the ontology using the `get_classes` function:"
   ]
  },
  {
   "cell_type": "code",
   "execution_count": 3,
   "metadata": {
    "scrolled": true,
    "slideshow": {
     "slide_type": "fragment"
    }
   },
   "outputs": [
    {
     "name": "stdout",
     "output_type": "stream",
     "text": [
      "['Food', 'Fruit', 'Noodles', 'Cracker', 'Cloth', 'FruitBarApple', 'PeanutBits', 'CleaningStuff', 'Knife', 'Location', 'Cabinet', 'Hallway', 'Couch', 'Orange', 'NutFruitMix', 'LivingRoom', 'Furniture', 'Bowl', 'Corn', 'Sideboard', 'Bookcase', 'Room', 'BigLemonJuice', 'Cupboard', 'Other', 'Desk', 'Tomatoes', 'Spoon', 'GetIt', 'SeasoningMix', 'Drinks', 'Trashbag', 'Toothpaste', 'Sofa', 'RedSpritzer', 'Wall', 'BarTable', 'Snacks', 'Sauerkraut', 'Person', 'SideTable', 'KitchenCabinet', 'Cup', 'Bar', 'Soap', 'TV', 'TrashBin', 'Male', 'WhiteDrawer', 'Basket', 'TVTable', 'HighTable', 'TrashCan', 'Salt', 'Chair', 'Female', 'Plane', 'Bedroom', 'KitchenTable', 'SparklingWater', 'BigCoke', 'Pepper', 'Care', 'IsoDrink', 'Lemon', 'AppleJuice', 'OrangeJuice', 'Bouillon', 'Plate', 'ShowerGel', 'Tray', 'CoffeeTable', 'CerealBarChocolate', 'Kitchen', 'Fork', 'Object', 'DishwasherTab', 'Coathanger', 'CerealBarChocolateBanana', 'Bed', 'BigWater', 'KitchenStuff', 'Dishwasher', 'FruitBarForestFruit', 'Container', 'Cereal', 'Milk']\n"
     ]
    }
   ],
   "source": [
    "classes = ontology_interface.get_classes()\n",
    "print(classes)"
   ]
  },
  {
   "cell_type": "markdown",
   "metadata": {
    "slideshow": {
     "slide_type": "fragment"
    }
   },
   "source": [
    "This ontology is rather small, so the number of classes is rather manageable."
   ]
  },
  {
   "cell_type": "markdown",
   "metadata": {
    "slideshow": {
     "slide_type": "slide"
    }
   },
   "source": [
    "In addition to retrieving all classes, we can also retrieve a list of all parent classes of a given class:"
   ]
  },
  {
   "cell_type": "code",
   "execution_count": 4,
   "metadata": {
    "slideshow": {
     "slide_type": "fragment"
    }
   },
   "outputs": [
    {
     "data": {
      "text/plain": [
       "['Fork', 'KitchenStuff', 'Object']"
      ]
     },
     "execution_count": 4,
     "metadata": {},
     "output_type": "execute_result"
    }
   ],
   "source": [
    "ontology_interface.get_parent_classes_of('Fork')"
   ]
  },
  {
   "cell_type": "markdown",
   "metadata": {
    "slideshow": {
     "slide_type": "fragment"
    }
   },
   "source": [
    "It should be noted that a class is a parent of itself, so the query class is also included in the result.\n",
    "\n",
    "In some cases, we may also be interested in retrieving all subclasses of a given class:"
   ]
  },
  {
   "cell_type": "code",
   "execution_count": 5,
   "metadata": {
    "scrolled": true,
    "slideshow": {
     "slide_type": "fragment"
    }
   },
   "outputs": [
    {
     "data": {
      "text/plain": [
       "['KitchenStuff', 'Spoon', 'Plate', 'Knife', 'Bowl', 'Fork', 'Cup']"
      ]
     },
     "execution_count": 5,
     "metadata": {},
     "output_type": "execute_result"
    }
   ],
   "source": [
    "ontology_interface.get_subclasses_of('KitchenStuff')"
   ]
  },
  {
   "cell_type": "markdown",
   "metadata": {
    "slideshow": {
     "slide_type": "fragment"
    }
   },
   "source": [
    "As above, a class is a subclass of itself."
   ]
  },
  {
   "cell_type": "markdown",
   "metadata": {
    "slideshow": {
     "slide_type": "slide"
    }
   },
   "source": [
    "The above functions implicitly allow us to extract the hierarchy of classes in the ontology. The interface also allows us to get the hierarchy explicitly in the form of a dictionary in which each key is a class name and the corresponding value is a list of subclasses of the class. This is done through the `get_class_hierarchy` function."
   ]
  },
  {
   "cell_type": "code",
   "execution_count": 6,
   "metadata": {
    "slideshow": {
     "slide_type": "fragment"
    }
   },
   "outputs": [
    {
     "data": {
      "text/plain": [
       "{'AppleJuice': [],\n",
       " 'Bar': [],\n",
       " 'BarTable': [],\n",
       " 'Basket': [],\n",
       " 'Bed': [],\n",
       " 'Bedroom': [],\n",
       " 'BigCoke': [],\n",
       " 'BigLemonJuice': [],\n",
       " 'BigWater': [],\n",
       " 'Bookcase': [],\n",
       " 'Bouillon': [],\n",
       " 'Bowl': [],\n",
       " 'Cabinet': [],\n",
       " 'Care': ['Soap', 'Toothpaste', 'ShowerGel'],\n",
       " 'Cereal': [],\n",
       " 'CerealBarChocolate': [],\n",
       " 'CerealBarChocolateBanana': [],\n",
       " 'Chair': [],\n",
       " 'CleaningStuff': ['DishwasherTab', 'Cloth'],\n",
       " 'Cloth': [],\n",
       " 'Coathanger': [],\n",
       " 'CoffeeTable': [],\n",
       " 'Container': ['Basket', 'Tray'],\n",
       " 'Corn': [],\n",
       " 'Couch': [],\n",
       " 'Cracker': [],\n",
       " 'Cup': [],\n",
       " 'Cupboard': [],\n",
       " 'Desk': [],\n",
       " 'Dishwasher': [],\n",
       " 'DishwasherTab': [],\n",
       " 'Drinks': ['AppleJuice',\n",
       "  'BigCoke',\n",
       "  'RedSpritzer',\n",
       "  'Milk',\n",
       "  'SparklingWater',\n",
       "  'IsoDrink',\n",
       "  'BigWater',\n",
       "  'OrangeJuice',\n",
       "  'BigLemonJuice'],\n",
       " 'Female': [],\n",
       " 'Food': ['Bouillon',\n",
       "  'Corn',\n",
       "  'Salt',\n",
       "  'SeasoningMix',\n",
       "  'Sauerkraut',\n",
       "  'Cereal',\n",
       "  'Noodles',\n",
       "  'Tomatoes',\n",
       "  'Pepper'],\n",
       " 'Fork': [],\n",
       " 'Fruit': ['Orange', 'Lemon'],\n",
       " 'FruitBarApple': [],\n",
       " 'FruitBarForestFruit': [],\n",
       " 'Furniture': ['SideTable',\n",
       "  'Dishwasher',\n",
       "  'CoffeeTable',\n",
       "  'HighTable',\n",
       "  'TrashCan',\n",
       "  'Sideboard',\n",
       "  'Chair',\n",
       "  'TrashBin',\n",
       "  'Coathanger',\n",
       "  'Bed',\n",
       "  'Desk',\n",
       "  'BarTable',\n",
       "  'WhiteDrawer',\n",
       "  'Cupboard',\n",
       "  'KitchenTable',\n",
       "  'Cabinet',\n",
       "  'Sofa',\n",
       "  'TVTable',\n",
       "  'Couch',\n",
       "  'TV',\n",
       "  'KitchenCabinet',\n",
       "  'Bookcase'],\n",
       " 'GetIt': [],\n",
       " 'Hallway': [],\n",
       " 'HighTable': [],\n",
       " 'IsoDrink': [],\n",
       " 'Kitchen': [],\n",
       " 'KitchenCabinet': [],\n",
       " 'KitchenStuff': ['Spoon', 'Plate', 'Knife', 'Bowl', 'Fork', 'Cup'],\n",
       " 'KitchenTable': [],\n",
       " 'Knife': [],\n",
       " 'Lemon': [],\n",
       " 'LivingRoom': [],\n",
       " 'Location': ['Wall',\n",
       "  'Room',\n",
       "  'Kitchen',\n",
       "  'LivingRoom',\n",
       "  'Bar',\n",
       "  'Hallway',\n",
       "  'Bedroom'],\n",
       " 'Male': [],\n",
       " 'Milk': [],\n",
       " 'Noodles': [],\n",
       " 'NutFruitMix': [],\n",
       " 'Object': ['Food',\n",
       "  'Bouillon',\n",
       "  'Corn',\n",
       "  'Salt',\n",
       "  'SeasoningMix',\n",
       "  'Sauerkraut',\n",
       "  'Cereal',\n",
       "  'Noodles',\n",
       "  'Tomatoes',\n",
       "  'Pepper',\n",
       "  'Drinks',\n",
       "  'AppleJuice',\n",
       "  'BigCoke',\n",
       "  'RedSpritzer',\n",
       "  'Milk',\n",
       "  'SparklingWater',\n",
       "  'IsoDrink',\n",
       "  'BigWater',\n",
       "  'OrangeJuice',\n",
       "  'BigLemonJuice',\n",
       "  'Snacks',\n",
       "  'GetIt',\n",
       "  'CerealBarChocolate',\n",
       "  'FruitBarForestFruit',\n",
       "  'FruitBarApple',\n",
       "  'PeanutBits',\n",
       "  'NutFruitMix',\n",
       "  'CerealBarChocolateBanana',\n",
       "  'Cracker',\n",
       "  'Container',\n",
       "  'Basket',\n",
       "  'Tray',\n",
       "  'KitchenStuff',\n",
       "  'Spoon',\n",
       "  'Plate',\n",
       "  'Knife',\n",
       "  'Bowl',\n",
       "  'Fork',\n",
       "  'Cup',\n",
       "  'Other',\n",
       "  'Trashbag',\n",
       "  'Fruit',\n",
       "  'Orange',\n",
       "  'Lemon',\n",
       "  'Care',\n",
       "  'Soap',\n",
       "  'Toothpaste',\n",
       "  'ShowerGel',\n",
       "  'CleaningStuff',\n",
       "  'DishwasherTab',\n",
       "  'Cloth',\n",
       "  'Furniture',\n",
       "  'SideTable',\n",
       "  'Dishwasher',\n",
       "  'CoffeeTable',\n",
       "  'HighTable',\n",
       "  'TrashCan',\n",
       "  'Sideboard',\n",
       "  'Chair',\n",
       "  'TrashBin',\n",
       "  'Coathanger',\n",
       "  'Bed',\n",
       "  'Desk',\n",
       "  'BarTable',\n",
       "  'WhiteDrawer',\n",
       "  'Cupboard',\n",
       "  'KitchenTable',\n",
       "  'Cabinet',\n",
       "  'Sofa',\n",
       "  'TVTable',\n",
       "  'Couch',\n",
       "  'TV',\n",
       "  'KitchenCabinet',\n",
       "  'Bookcase'],\n",
       " 'Orange': [],\n",
       " 'OrangeJuice': [],\n",
       " 'Other': ['Trashbag'],\n",
       " 'PeanutBits': [],\n",
       " 'Pepper': [],\n",
       " 'Person': ['Female', 'Male'],\n",
       " 'Plane': [],\n",
       " 'Plate': [],\n",
       " 'RedSpritzer': [],\n",
       " 'Room': ['Kitchen', 'LivingRoom', 'Bar', 'Hallway', 'Bedroom'],\n",
       " 'Salt': [],\n",
       " 'Sauerkraut': [],\n",
       " 'SeasoningMix': [],\n",
       " 'ShowerGel': [],\n",
       " 'SideTable': [],\n",
       " 'Sideboard': [],\n",
       " 'Snacks': ['GetIt',\n",
       "  'CerealBarChocolate',\n",
       "  'FruitBarForestFruit',\n",
       "  'FruitBarApple',\n",
       "  'PeanutBits',\n",
       "  'NutFruitMix',\n",
       "  'CerealBarChocolateBanana',\n",
       "  'Cracker'],\n",
       " 'Soap': [],\n",
       " 'Sofa': [],\n",
       " 'SparklingWater': [],\n",
       " 'Spoon': [],\n",
       " 'TV': [],\n",
       " 'TVTable': [],\n",
       " 'Tomatoes': [],\n",
       " 'Toothpaste': [],\n",
       " 'TrashBin': [],\n",
       " 'TrashCan': [],\n",
       " 'Trashbag': [],\n",
       " 'Tray': [],\n",
       " 'Wall': [],\n",
       " 'WhiteDrawer': []}"
      ]
     },
     "execution_count": 6,
     "metadata": {},
     "output_type": "execute_result"
    }
   ],
   "source": [
    "ontology_interface.get_class_hierarchy()"
   ]
  },
  {
   "cell_type": "markdown",
   "metadata": {
    "slideshow": {
     "slide_type": "slide"
    }
   },
   "source": [
    "The interface also has a utility function `is_class`, which checks whether a given class exists in the ontology."
   ]
  },
  {
   "cell_type": "code",
   "execution_count": 7,
   "metadata": {
    "slideshow": {
     "slide_type": "fragment"
    }
   },
   "outputs": [],
   "source": [
    "assert ontology_interface.is_class('Basket')\n",
    "assert not ontology_interface.is_class('Truck')"
   ]
  },
  {
   "cell_type": "markdown",
   "metadata": {
    "slideshow": {
     "slide_type": "slide"
    }
   },
   "source": [
    "The above examples were all about retrieving information from the TBox, but we can obviously also obtain information from the ABox.\n",
    "\n",
    "To retrieve all instances of a given class, we can use the `get_instances_of` function, which returns a list with the names of all instances. The following example illustrates this function by reading out all instances of class `Chair`."
   ]
  },
  {
   "cell_type": "code",
   "execution_count": 8,
   "metadata": {
    "slideshow": {
     "slide_type": "fragment"
    }
   },
   "outputs": [
    {
     "data": {
      "text/plain": [
       "['RightArmChair',\n",
       " 'DeskChair',\n",
       " 'KitchenTableChair1',\n",
       " 'KitchenTableChair2',\n",
       " 'BarTableChair',\n",
       " 'HighTableChair',\n",
       " 'LeftArmChair']"
      ]
     },
     "execution_count": 8,
     "metadata": {},
     "output_type": "execute_result"
    }
   ],
   "source": [
    "ontology_interface.get_instances_of('Chair')"
   ]
  },
  {
   "cell_type": "markdown",
   "metadata": {
    "slideshow": {
     "slide_type": "slide"
    }
   },
   "source": [
    "If necessary, it is also possible to retrieve a list of all instances in the ontology regardless of their class. The `get_instances` function provides this functionality."
   ]
  },
  {
   "cell_type": "code",
   "execution_count": 9,
   "metadata": {
    "scrolled": true,
    "slideshow": {
     "slide_type": "fragment"
    }
   },
   "outputs": [
    {
     "data": {
      "text/plain": [
       "['Emily',\n",
       " 'BookcasePlane1',\n",
       " 'BedroomNorthWall',\n",
       " 'KitchenNorthWall',\n",
       " 'David',\n",
       " 'HighTablePlane',\n",
       " 'TrashCan',\n",
       " 'BarEasthWall',\n",
       " 'KitchenCabinetTopPlaneRight2',\n",
       " 'Robert',\n",
       " 'Thomas',\n",
       " 'CupboardPlane1',\n",
       " 'BarSouthWall',\n",
       " 'Michael',\n",
       " 'BookcasePlane2',\n",
       " 'BarTableChair',\n",
       " 'KitchenCabinetPlane',\n",
       " 'KitchenCabinetTopPlaneLeft1',\n",
       " 'BedroomWesthWall',\n",
       " 'Olivia',\n",
       " 'HallwayNorthWall',\n",
       " 'Cabinet',\n",
       " 'KitchenTableChair1',\n",
       " 'HallwayWesthWall',\n",
       " 'BookcasePlane3',\n",
       " 'Madison',\n",
       " 'Snacks',\n",
       " 'BarWestWall',\n",
       " 'SideTable',\n",
       " 'Richard',\n",
       " 'CleaningStuff',\n",
       " 'Charles',\n",
       " 'KitchenWestWall',\n",
       " 'KitchenCabinetopPlaneLeft2',\n",
       " 'CabinetPlane',\n",
       " 'LivingRoom',\n",
       " 'William',\n",
       " 'TrashBin',\n",
       " 'James',\n",
       " 'LivingRoomNorthWall',\n",
       " 'CupboardPlane2',\n",
       " 'BedroomSouthWall',\n",
       " 'HighTable',\n",
       " 'Sophia',\n",
       " 'Emma',\n",
       " 'Bar',\n",
       " 'Bookcase',\n",
       " 'KitchenStuff',\n",
       " 'KitchenCabinet',\n",
       " 'Dishwasher',\n",
       " 'KitchenTable',\n",
       " 'Couch',\n",
       " 'CoffeeTablePlane',\n",
       " 'LivingRoomEastWall',\n",
       " 'Chloe',\n",
       " 'Ava',\n",
       " 'Container',\n",
       " 'Isabella',\n",
       " 'KitchenTablePlane',\n",
       " 'HallwayEasthWall',\n",
       " 'LivingRoomWesthWall',\n",
       " 'HighTableChair',\n",
       " 'DeskPlane',\n",
       " 'Kitchen',\n",
       " 'KitchenCabinetTopPlaneRight1',\n",
       " 'TVTable',\n",
       " 'Fruit',\n",
       " 'Abigail',\n",
       " 'LivingRoomSouthhWall',\n",
       " 'Drinks',\n",
       " 'Mia',\n",
       " 'SideboardPlane',\n",
       " 'TV',\n",
       " 'CupboardPlane3',\n",
       " 'Care',\n",
       " 'DishwasherPlane',\n",
       " 'Bed',\n",
       " 'BarTablePlane',\n",
       " 'KitchenSouthhWall',\n",
       " 'Hallway',\n",
       " 'Sideboard',\n",
       " 'CoffeeTable',\n",
       " 'WhiteDrawer',\n",
       " 'DeskChair',\n",
       " 'WhiteDrawerPlane',\n",
       " 'SideTablePlane',\n",
       " 'BarNorthWall',\n",
       " 'TVTablePlane',\n",
       " 'BarTable',\n",
       " 'KitchenEasthWall',\n",
       " 'Bedroom',\n",
       " 'Desk',\n",
       " 'BedroomEasthWall',\n",
       " 'Food',\n",
       " 'Sofa',\n",
       " 'KitchenTableChair2',\n",
       " 'LeftArmChair',\n",
       " 'John',\n",
       " 'Joseph',\n",
       " 'RightArmChair']"
      ]
     },
     "execution_count": 9,
     "metadata": {},
     "output_type": "execute_result"
    }
   ],
   "source": [
    "ontology_interface.get_instances()"
   ]
  },
  {
   "cell_type": "markdown",
   "metadata": {
    "slideshow": {
     "slide_type": "slide"
    }
   },
   "source": [
    "To check if a given instance exists in the ontology, the `is_instance` function can be used."
   ]
  },
  {
   "cell_type": "code",
   "execution_count": 10,
   "metadata": {
    "slideshow": {
     "slide_type": "fragment"
    }
   },
   "outputs": [],
   "source": [
    "assert ontology_interface.is_instance('KitchenTableChair1')\n",
    "assert not ontology_interface.is_instance('MyBike')"
   ]
  },
  {
   "cell_type": "markdown",
   "metadata": {
    "slideshow": {
     "slide_type": "fragment"
    }
   },
   "source": [
    "A similar function - `is_instance_of` - checks whether a certain individual is an instance of a given class."
   ]
  },
  {
   "cell_type": "code",
   "execution_count": 11,
   "metadata": {
    "slideshow": {
     "slide_type": "fragment"
    }
   },
   "outputs": [],
   "source": [
    "assert ontology_interface.is_instance_of('KitchenTableChair2', 'Chair')\n",
    "assert not ontology_interface.is_instance_of('KitchenTableChair2', 'Bed')"
   ]
  },
  {
   "cell_type": "markdown",
   "metadata": {
    "slideshow": {
     "slide_type": "slide"
    }
   },
   "source": [
    "### Inserting and Removing Class Data"
   ]
  },
  {
   "cell_type": "markdown",
   "metadata": {
    "slideshow": {
     "slide_type": "fragment"
    }
   },
   "source": [
    "For locally edited ontologies, the query interface also provides functions for inserting and deleting classes and class assertions: `insert_class_definition` and `remove_class_definition` for classes, and `insert_class_assertion` and `remove_class_assertion` for class assertions."
   ]
  },
  {
   "cell_type": "markdown",
   "metadata": {
    "slideshow": {
     "slide_type": "fragment"
    }
   },
   "source": [
    "We can insert a new class `Tea` as a subclass of `Drinks` as follows:"
   ]
  },
  {
   "cell_type": "code",
   "execution_count": 12,
   "metadata": {
    "slideshow": {
     "slide_type": "fragment"
    }
   },
   "outputs": [],
   "source": [
    "ontology_interface.insert_class_definition('Tea', ['Drinks'])"
   ]
  },
  {
   "cell_type": "markdown",
   "metadata": {
    "slideshow": {
     "slide_type": "slide"
    }
   },
   "source": [
    "The class `Tea` can also be removed from the ontology as"
   ]
  },
  {
   "cell_type": "code",
   "execution_count": 13,
   "metadata": {
    "slideshow": {
     "slide_type": "fragment"
    }
   },
   "outputs": [],
   "source": [
    "ontology_interface.remove_class_definition('Tea')"
   ]
  },
  {
   "cell_type": "markdown",
   "metadata": {
    "slideshow": {
     "slide_type": "fragment"
    }
   },
   "source": [
    "It should be noted that removing a class also removes:\n",
    "* all assertions of the class\n",
    "* all properties that have the class as domain or range\n",
    "* all assertions of those properties"
   ]
  },
  {
   "cell_type": "markdown",
   "metadata": {
    "slideshow": {
     "slide_type": "slide"
    }
   },
   "source": [
    "Regarding assertions, we can insert `CornFlakes` as an instance of the `Cereal` class as follows:"
   ]
  },
  {
   "cell_type": "code",
   "execution_count": 14,
   "metadata": {
    "slideshow": {
     "slide_type": "fragment"
    }
   },
   "outputs": [],
   "source": [
    "ontology_interface.insert_class_assertion('Cereal', 'CornFlakes')"
   ]
  },
  {
   "cell_type": "markdown",
   "metadata": {
    "slideshow": {
     "slide_type": "fragment"
    }
   },
   "source": [
    "Similarly, we can remove `CornFlakes` as an instance of the `Cereal` class as"
   ]
  },
  {
   "cell_type": "code",
   "execution_count": 15,
   "metadata": {
    "slideshow": {
     "slide_type": "fragment"
    }
   },
   "outputs": [],
   "source": [
    "ontology_interface.remove_class_assertion('Cereal', 'CornFlakes')"
   ]
  },
  {
   "cell_type": "markdown",
   "metadata": {
    "slideshow": {
     "slide_type": "slide"
    }
   },
   "source": [
    "The changes done by the `insert_class_assertion` and `remove_class_assertion` are only applied to the loaded knowledge graph, but are not saved. To actually save them to the ontology file, a call to the `update` function is necessary:"
   ]
  },
  {
   "cell_type": "code",
   "execution_count": 16,
   "metadata": {
    "slideshow": {
     "slide_type": "fragment"
    }
   },
   "outputs": [],
   "source": [
    "# ontology_interface.update()"
   ]
  },
  {
   "cell_type": "markdown",
   "metadata": {
    "slideshow": {
     "slide_type": "fragment"
    }
   },
   "source": [
    "Note that we are not going to call `update` in this example since we are loading the ontology from a non-editable file from a web URL."
   ]
  },
  {
   "cell_type": "markdown",
   "metadata": {
    "slideshow": {
     "slide_type": "fragment"
    }
   },
   "source": [
    "Changes to the ontology can also be saved to a file using the `export` function, which, instead of overwriting the original ontology file, writes the ontology to a file given as an argument."
   ]
  },
  {
   "cell_type": "code",
   "execution_count": 17,
   "metadata": {
    "slideshow": {
     "slide_type": "fragment"
    }
   },
   "outputs": [],
   "source": [
    "# ontology_interface.export('file:///path/to/updated_ontology.owl')"
   ]
  },
  {
   "cell_type": "markdown",
   "metadata": {
    "slideshow": {
     "slide_type": "slide"
    }
   },
   "source": [
    "### Retrieving Object Property Data"
   ]
  },
  {
   "cell_type": "markdown",
   "metadata": {
    "slideshow": {
     "slide_type": "fragment"
    }
   },
   "source": [
    "Just as we can obtain a list of all classes, we can also obtain a list of all object properties in the ontology. We can do this using the `get_object_properties` function."
   ]
  },
  {
   "cell_type": "code",
   "execution_count": 18,
   "metadata": {
    "scrolled": true,
    "slideshow": {
     "slide_type": "fragment"
    }
   },
   "outputs": [
    {
     "name": "stdout",
     "output_type": "stream",
     "text": [
      "['inside', 'toTheRightOf', 'toTheLeftOf', 'hasDoor', 'closeTo', 'above', 'onTopOf', 'canPlaceOn', 'defaultLocation', 'connectedTo', 'locatedAt', 'closeToWall', 'nextTo', 'oppositeTo', 'below']\n"
     ]
    }
   ],
   "source": [
    "object_properties = ontology_interface.get_object_properties()\n",
    "print(object_properties)"
   ]
  },
  {
   "cell_type": "markdown",
   "metadata": {
    "slideshow": {
     "slide_type": "fragment"
    }
   },
   "source": [
    "To check if a given property exists in the ontology, the `is_property` function can be used."
   ]
  },
  {
   "cell_type": "code",
   "execution_count": 19,
   "metadata": {
    "slideshow": {
     "slide_type": "fragment"
    }
   },
   "outputs": [],
   "source": [
    "assert ontology_interface.is_property('nextTo')\n",
    "assert not ontology_interface.is_property('canFly')"
   ]
  },
  {
   "cell_type": "markdown",
   "metadata": {
    "slideshow": {
     "slide_type": "slide"
    }
   },
   "source": [
    "In some cases, obtaining the domain and range of a property is also useful. The following snippet uses the `get_property_domain_range` function to obtain the domain and range of all properties in the ontology."
   ]
  },
  {
   "cell_type": "code",
   "execution_count": 20,
   "metadata": {
    "scrolled": true,
    "slideshow": {
     "slide_type": "fragment"
    }
   },
   "outputs": [
    {
     "name": "stdout",
     "output_type": "stream",
     "text": [
      "inside: Object -> Object\n",
      "toTheRightOf: Object -> Object\n",
      "toTheLeftOf: Object -> Object\n",
      "hasDoor: Furniture -> boolean\n",
      "closeTo: Object -> Object\n",
      "above: Object -> Object\n",
      "onTopOf: Object -> Object\n",
      "canPlaceOn: Object -> Plane\n",
      "defaultLocation: Object -> Furniture\n",
      "connectedTo: Room -> Room\n",
      "locatedAt: Object -> Location\n",
      "closeToWall: Object -> Wall\n",
      "nextTo: Object -> Object\n",
      "oppositeTo: Object -> Object\n",
      "below: Object -> Object\n"
     ]
    }
   ],
   "source": [
    "for prop in object_properties:\n",
    "    (prop_domain, prop_range) = ontology_interface.get_property_domain_range(prop)\n",
    "    print('{0}: {1} -> {2}'.format(prop, prop_domain, prop_range))"
   ]
  },
  {
   "cell_type": "markdown",
   "metadata": {
    "slideshow": {
     "slide_type": "slide"
    }
   },
   "source": [
    "The `get_associated_properties` function allows retrieving properties that are related through a given class, namely properties that have the class either as domain or as range. For example, we can obtain all properties that have `Furniture` as domain or range as follows:"
   ]
  },
  {
   "cell_type": "code",
   "execution_count": 21,
   "metadata": {
    "slideshow": {
     "slide_type": "fragment"
    }
   },
   "outputs": [
    {
     "data": {
      "text/plain": [
       "['hasDoor', 'defaultLocation']"
      ]
     },
     "execution_count": 21,
     "metadata": {},
     "output_type": "execute_result"
    }
   ],
   "source": [
    "ontology_interface.get_associated_properties('Furniture')"
   ]
  },
  {
   "cell_type": "markdown",
   "metadata": {
    "slideshow": {
     "slide_type": "fragment"
    }
   },
   "source": [
    "The interface also allows obtaining the types that are defined for a given property through the `get_property_types` function."
   ]
  },
  {
   "cell_type": "code",
   "execution_count": 22,
   "metadata": {
    "slideshow": {
     "slide_type": "fragment"
    }
   },
   "outputs": [
    {
     "data": {
      "text/plain": [
       "['FunctionalProperty', 'ObjectProperty']"
      ]
     },
     "execution_count": 22,
     "metadata": {},
     "output_type": "execute_result"
    }
   ],
   "source": [
    "ontology_interface.get_property_types('defaultLocation')"
   ]
  },
  {
   "cell_type": "markdown",
   "metadata": {
    "slideshow": {
     "slide_type": "slide"
    }
   },
   "source": [
    "Given a property, we can also retrieve all of its assertions using the `get_all_subjects_and_objects` function. This function returns a list of pairs in which the first element is the subject and the second element is the object.\n",
    "\n",
    "The following example returns the locations of various furniture items in the apartment."
   ]
  },
  {
   "cell_type": "code",
   "execution_count": 23,
   "metadata": {
    "scrolled": false,
    "slideshow": {
     "slide_type": "fragment"
    }
   },
   "outputs": [
    {
     "data": {
      "text/plain": [
       "[('Bookcase', 'LivingRoom'),\n",
       " ('CoffeeTable', 'LivingRoom'),\n",
       " ('Cabinet', 'Kitchen'),\n",
       " ('Bed', 'Bedroom'),\n",
       " ('Sideboard', 'LivingRoom'),\n",
       " ('HighTable', 'LivingRoom'),\n",
       " ('KitchenCabinet', 'Kitchen'),\n",
       " ('WhiteDrawer', 'Kitchen'),\n",
       " ('BarTable', 'Bar'),\n",
       " ('LeftArmChair', 'LivingRoom'),\n",
       " ('SideTable', 'Bedroom'),\n",
       " ('TrashBin', 'LivingRoom'),\n",
       " ('Desk', 'Bedroom'),\n",
       " ('TVTable', 'LivingRoom'),\n",
       " ('RightArmChair', 'LivingRoom'),\n",
       " ('CoatHanger', 'LivingRoom'),\n",
       " ('Dishwasher', 'Kitchen'),\n",
       " ('KitchenTable', 'Kitchen'),\n",
       " ('Couch', 'LivingRoom'),\n",
       " ('CupBoard', 'Bar'),\n",
       " ('TrashCan', 'Kitchen'),\n",
       " ('Sofa', 'Bar')]"
      ]
     },
     "execution_count": 23,
     "metadata": {},
     "output_type": "execute_result"
    }
   ],
   "source": [
    "ontology_interface.get_all_subjects_and_objects('locatedAt')"
   ]
  },
  {
   "cell_type": "markdown",
   "metadata": {
    "slideshow": {
     "slide_type": "slide"
    }
   },
   "source": [
    "We can also retrieve more specific information about the property assertions using the `get_subjects_of` and `get_objects_of` functions.\n",
    "\n",
    "The `get_subjects_of` function returns all subjects for a given property and object. For example, we can retrieve a list of all items located in the living room using as follows:"
   ]
  },
  {
   "cell_type": "code",
   "execution_count": 24,
   "metadata": {
    "slideshow": {
     "slide_type": "fragment"
    }
   },
   "outputs": [
    {
     "data": {
      "text/plain": [
       "['Bookcase',\n",
       " 'CoffeeTable',\n",
       " 'TVTable',\n",
       " 'Sideboard',\n",
       " 'RightArmChair',\n",
       " 'CoatHanger',\n",
       " 'HighTable',\n",
       " 'Couch',\n",
       " 'LeftArmChair',\n",
       " 'TrashBin']"
      ]
     },
     "execution_count": 24,
     "metadata": {},
     "output_type": "execute_result"
    }
   ],
   "source": [
    "ontology_interface.get_subjects_of('locatedAt', 'LivingRoom')"
   ]
  },
  {
   "cell_type": "markdown",
   "metadata": {
    "slideshow": {
     "slide_type": "slide"
    }
   },
   "source": [
    "Similarly, the `get_objects_of`function returns all objects for a given property and subject. We can for instance get the location of the desk as follows:"
   ]
  },
  {
   "cell_type": "code",
   "execution_count": 25,
   "metadata": {
    "slideshow": {
     "slide_type": "fragment"
    }
   },
   "outputs": [
    {
     "data": {
      "text/plain": [
       "['Bedroom']"
      ]
     },
     "execution_count": 25,
     "metadata": {},
     "output_type": "execute_result"
    }
   ],
   "source": [
    "ontology_interface.get_objects_of('locatedAt', 'Desk')"
   ]
  },
  {
   "cell_type": "markdown",
   "metadata": {
    "slideshow": {
     "slide_type": "fragment"
    }
   },
   "source": [
    "It should be noted that the `get_objects_of` function returns a list of objects, even though in this case we know that the desk can only be in one place. `get_objects_of` is thus a functional property."
   ]
  },
  {
   "cell_type": "markdown",
   "metadata": {
    "slideshow": {
     "slide_type": "slide"
    }
   },
   "source": [
    "### Inserting and Removing Property Data"
   ]
  },
  {
   "cell_type": "markdown",
   "metadata": {
    "slideshow": {
     "slide_type": "fragment"
    }
   },
   "source": [
    "As in the case of classes, we can also insert and remove properties as well as property assertions. This can be done using the `insert_property_definition` and `remove_property_definition` functions for properties, and `insert_property_assertion` and `remove_property_assertion` functions for property assertions."
   ]
  },
  {
   "cell_type": "markdown",
   "metadata": {
    "slideshow": {
     "slide_type": "fragment"
    }
   },
   "source": [
    "Let us for instance insert a new property that specifies the location at which an objects needs to be disposed of. This is thus a functional property for which `Object` is the domain and `Location` is the range."
   ]
  },
  {
   "cell_type": "code",
   "execution_count": 26,
   "metadata": {
    "slideshow": {
     "slide_type": "fragment"
    }
   },
   "outputs": [],
   "source": [
    "ontology_interface.insert_property_definition('disposeAt', 'Object', 'Location', prop_type='FunctionalProperty')"
   ]
  },
  {
   "cell_type": "markdown",
   "metadata": {
    "slideshow": {
     "slide_type": "slide"
    }
   },
   "source": [
    "We can remove the `disposeAt` property from the ontology as follows:"
   ]
  },
  {
   "cell_type": "code",
   "execution_count": 27,
   "metadata": {
    "slideshow": {
     "slide_type": "fragment"
    }
   },
   "outputs": [],
   "source": [
    "ontology_interface.remove_property_definition('disposeAt')"
   ]
  },
  {
   "cell_type": "markdown",
   "metadata": {
    "slideshow": {
     "slide_type": "fragment"
    }
   },
   "source": [
    "It should be noted that removing a property also removes all assertions of that property in the ontology."
   ]
  },
  {
   "cell_type": "markdown",
   "metadata": {
    "slideshow": {
     "slide_type": "slide"
    }
   },
   "source": [
    "The functions for inserting and removing property assertions both get the name of a property and a subject-object pair. We can for instance assert that the bookcase has a door as"
   ]
  },
  {
   "cell_type": "code",
   "execution_count": 28,
   "metadata": {
    "slideshow": {
     "slide_type": "fragment"
    }
   },
   "outputs": [],
   "source": [
    "ontology_interface.insert_property_assertion('hasDoor', ('Bookcase', 'True'))"
   ]
  },
  {
   "cell_type": "markdown",
   "metadata": {
    "slideshow": {
     "slide_type": "fragment"
    }
   },
   "source": [
    "In a similar manner, we can also remove this assertion from the ontology:"
   ]
  },
  {
   "cell_type": "code",
   "execution_count": 29,
   "metadata": {
    "slideshow": {
     "slide_type": "fragment"
    }
   },
   "outputs": [],
   "source": [
    "ontology_interface.remove_property_assertion('hasDoor', ('Bookcase', 'True'))"
   ]
  },
  {
   "cell_type": "markdown",
   "metadata": {
    "slideshow": {
     "slide_type": "slide"
    }
   },
   "source": [
    "As for class assertions, inserted and removed property assertions are only applied to the loaded knowledge graph. To actually apply save them to the ontology file, we need to call the `update` function (which we are again not doing since we are loading a non-editable ontology from a web URL)."
   ]
  },
  {
   "cell_type": "code",
   "execution_count": 30,
   "metadata": {
    "slideshow": {
     "slide_type": "fragment"
    }
   },
   "outputs": [],
   "source": [
    "# ontology_interface.update()"
   ]
  }
 ],
 "metadata": {
  "celltoolbar": "Slideshow",
  "kernelspec": {
   "display_name": "Python 3",
   "language": "python",
   "name": "python3"
  },
  "language_info": {
   "codemirror_mode": {
    "name": "ipython",
    "version": 3
   },
   "file_extension": ".py",
   "mimetype": "text/x-python",
   "name": "python",
   "nbconvert_exporter": "python",
   "pygments_lexer": "ipython3",
   "version": "3.6.12"
  }
 },
 "nbformat": 4,
 "nbformat_minor": 4
}
